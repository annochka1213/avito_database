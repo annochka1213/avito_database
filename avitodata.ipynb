{
 "cells": [
  {
   "cell_type": "code",
   "execution_count": 42,
   "metadata": {},
   "outputs": [],
   "source": [
    "import pandas as pd\n",
    "import seaborn as sns\n",
    "import numpy as np\n",
    "from scipy import stats\n",
    "from scipy.stats import chi2_contingency"
   ]
  },
  {
   "cell_type": "code",
   "execution_count": 43,
   "metadata": {},
   "outputs": [],
   "source": [
    "avito = pd.read_csv('~/OneDrive/Desktop/capstone3/avitofulldata.csv', encoding='utf8', low_memory=False)"
   ]
  },
  {
   "cell_type": "code",
   "execution_count": 44,
   "metadata": {},
   "outputs": [
    {
     "data": {
      "text/html": [
       "<div>\n",
       "<style scoped>\n",
       "    .dataframe tbody tr th:only-of-type {\n",
       "        vertical-align: middle;\n",
       "    }\n",
       "\n",
       "    .dataframe tbody tr th {\n",
       "        vertical-align: top;\n",
       "    }\n",
       "\n",
       "    .dataframe thead th {\n",
       "        text-align: right;\n",
       "    }\n",
       "</style>\n",
       "<table border=\"1\" class=\"dataframe\">\n",
       "  <thead>\n",
       "    <tr style=\"text-align: right;\">\n",
       "      <th></th>\n",
       "      <th>region</th>\n",
       "      <th>city</th>\n",
       "      <th>parent_category_name</th>\n",
       "      <th>category_name</th>\n",
       "      <th>param_1</th>\n",
       "      <th>param_2</th>\n",
       "      <th>param_3</th>\n",
       "      <th>title</th>\n",
       "      <th>description</th>\n",
       "      <th>price</th>\n",
       "      <th>activation_date</th>\n",
       "      <th>user_type</th>\n",
       "      <th>deal_probability</th>\n",
       "    </tr>\n",
       "  </thead>\n",
       "  <tbody>\n",
       "    <tr>\n",
       "      <th>0</th>\n",
       "      <td>Свердловская область</td>\n",
       "      <td>Екатеринбург</td>\n",
       "      <td>Личные вещи</td>\n",
       "      <td>Товары для детей и игрушки</td>\n",
       "      <td>Постельные принадлежности</td>\n",
       "      <td>NaN</td>\n",
       "      <td>NaN</td>\n",
       "      <td>Кокоби(кокон для сна)</td>\n",
       "      <td>Кокон для сна малыша,пользовались меньше месяц...</td>\n",
       "      <td>400.0</td>\n",
       "      <td>3/28/2017</td>\n",
       "      <td>Private</td>\n",
       "      <td>0.12789</td>\n",
       "    </tr>\n",
       "    <tr>\n",
       "      <th>1</th>\n",
       "      <td>Самарская область</td>\n",
       "      <td>Самара</td>\n",
       "      <td>Для дома и дачи</td>\n",
       "      <td>Мебель и интерьер</td>\n",
       "      <td>Другое</td>\n",
       "      <td>NaN</td>\n",
       "      <td>NaN</td>\n",
       "      <td>Стойка для Одежды</td>\n",
       "      <td>Стойка для одежды, под вешалки. С бутика.</td>\n",
       "      <td>3000.0</td>\n",
       "      <td>3/26/2017</td>\n",
       "      <td>Private</td>\n",
       "      <td>0.00000</td>\n",
       "    </tr>\n",
       "    <tr>\n",
       "      <th>2</th>\n",
       "      <td>Ростовская область</td>\n",
       "      <td>Ростов-на-Дону</td>\n",
       "      <td>Бытовая электроника</td>\n",
       "      <td>Аудио и видео</td>\n",
       "      <td>Видео, DVD и Blu-ray плееры</td>\n",
       "      <td>NaN</td>\n",
       "      <td>NaN</td>\n",
       "      <td>Philips bluray</td>\n",
       "      <td>В хорошем состоянии, домашний кинотеатр с blu ...</td>\n",
       "      <td>4000.0</td>\n",
       "      <td>3/20/2017</td>\n",
       "      <td>Private</td>\n",
       "      <td>0.43177</td>\n",
       "    </tr>\n",
       "    <tr>\n",
       "      <th>3</th>\n",
       "      <td>Татарстан</td>\n",
       "      <td>Набережные Челны</td>\n",
       "      <td>Личные вещи</td>\n",
       "      <td>Товары для детей и игрушки</td>\n",
       "      <td>Автомобильные кресла</td>\n",
       "      <td>NaN</td>\n",
       "      <td>NaN</td>\n",
       "      <td>Автокресло</td>\n",
       "      <td>Продам кресло от0-25кг</td>\n",
       "      <td>2200.0</td>\n",
       "      <td>3/25/2017</td>\n",
       "      <td>Company</td>\n",
       "      <td>0.80323</td>\n",
       "    </tr>\n",
       "    <tr>\n",
       "      <th>4</th>\n",
       "      <td>Волгоградская область</td>\n",
       "      <td>Волгоград</td>\n",
       "      <td>Транспорт</td>\n",
       "      <td>Автомобили</td>\n",
       "      <td>С пробегом</td>\n",
       "      <td>ВАЗ (LADA)</td>\n",
       "      <td>2110</td>\n",
       "      <td>ВАЗ 2110, 2003</td>\n",
       "      <td>Все вопросы по телефону.</td>\n",
       "      <td>40000.0</td>\n",
       "      <td>3/16/2017</td>\n",
       "      <td>Private</td>\n",
       "      <td>0.20797</td>\n",
       "    </tr>\n",
       "  </tbody>\n",
       "</table>\n",
       "</div>"
      ],
      "text/plain": [
       "                  region              city parent_category_name  \\\n",
       "0   Свердловская область      Екатеринбург          Личные вещи   \n",
       "1      Самарская область            Самара      Для дома и дачи   \n",
       "2     Ростовская область    Ростов-на-Дону  Бытовая электроника   \n",
       "3              Татарстан  Набережные Челны          Личные вещи   \n",
       "4  Волгоградская область         Волгоград            Транспорт   \n",
       "\n",
       "                category_name                      param_1     param_2  \\\n",
       "0  Товары для детей и игрушки    Постельные принадлежности         NaN   \n",
       "1           Мебель и интерьер                       Другое         NaN   \n",
       "2               Аудио и видео  Видео, DVD и Blu-ray плееры         NaN   \n",
       "3  Товары для детей и игрушки         Автомобильные кресла         NaN   \n",
       "4                  Автомобили                   С пробегом  ВАЗ (LADA)   \n",
       "\n",
       "  param_3                  title  \\\n",
       "0     NaN  Кокоби(кокон для сна)   \n",
       "1     NaN      Стойка для Одежды   \n",
       "2     NaN         Philips bluray   \n",
       "3     NaN             Автокресло   \n",
       "4    2110         ВАЗ 2110, 2003   \n",
       "\n",
       "                                         description    price activation_date  \\\n",
       "0  Кокон для сна малыша,пользовались меньше месяц...    400.0       3/28/2017   \n",
       "1          Стойка для одежды, под вешалки. С бутика.   3000.0       3/26/2017   \n",
       "2  В хорошем состоянии, домашний кинотеатр с blu ...   4000.0       3/20/2017   \n",
       "3                             Продам кресло от0-25кг   2200.0       3/25/2017   \n",
       "4                           Все вопросы по телефону.  40000.0       3/16/2017   \n",
       "\n",
       "  user_type  deal_probability  \n",
       "0   Private           0.12789  \n",
       "1   Private           0.00000  \n",
       "2   Private           0.43177  \n",
       "3   Company           0.80323  \n",
       "4   Private           0.20797  "
      ]
     },
     "execution_count": 44,
     "metadata": {},
     "output_type": "execute_result"
    }
   ],
   "source": [
    "avito.head()"
   ]
  },
  {
   "cell_type": "code",
   "execution_count": 45,
   "metadata": {},
   "outputs": [
    {
     "data": {
      "text/plain": [
       "Index(['region', 'city', 'parent_category_name', 'category_name', 'param_1',\n",
       "       'param_2', 'param_3', 'title', 'description', 'price',\n",
       "       'activation_date', 'user_type', 'deal_probability'],\n",
       "      dtype='object')"
      ]
     },
     "execution_count": 45,
     "metadata": {},
     "output_type": "execute_result"
    }
   ],
   "source": [
    "avito.columns"
   ]
  },
  {
   "cell_type": "code",
   "execution_count": 46,
   "metadata": {},
   "outputs": [
    {
     "name": "stdout",
     "output_type": "stream",
     "text": [
      "<class 'pandas.core.frame.DataFrame'>\n",
      "RangeIndex: 1048575 entries, 0 to 1048574\n",
      "Data columns (total 13 columns):\n",
      " #   Column                Non-Null Count    Dtype  \n",
      "---  ------                --------------    -----  \n",
      " 0   region                1048575 non-null  object \n",
      " 1   city                  1048575 non-null  object \n",
      " 2   parent_category_name  1048575 non-null  object \n",
      " 3   category_name         1048575 non-null  object \n",
      " 4   param_1               1005862 non-null  object \n",
      " 5   param_2               591604 non-null   object \n",
      " 6   param_3               447054 non-null   object \n",
      " 7   title                 1048575 non-null  object \n",
      " 8   description           967303 non-null   object \n",
      " 9   price                 989085 non-null   float64\n",
      " 10  activation_date       1048575 non-null  object \n",
      " 11  user_type             1048575 non-null  object \n",
      " 12  deal_probability      1048575 non-null  float64\n",
      "dtypes: float64(2), object(11)\n",
      "memory usage: 104.0+ MB\n"
     ]
    }
   ],
   "source": [
    "avito.info()"
   ]
  },
  {
   "cell_type": "code",
   "execution_count": 47,
   "metadata": {},
   "outputs": [
    {
     "data": {
      "text/plain": [
       "1048575"
      ]
     },
     "execution_count": 47,
     "metadata": {},
     "output_type": "execute_result"
    }
   ],
   "source": [
    "len(avito)"
   ]
  },
  {
   "cell_type": "markdown",
   "metadata": {},
   "source": [
    "REGION"
   ]
  },
  {
   "cell_type": "code",
   "execution_count": 48,
   "metadata": {},
   "outputs": [],
   "source": [
    "deal_probability_region=avito.groupby(['region'])['deal_probability'].mean()\n",
    "deal_probability_region=deal_probability_region.sort_values().reset_index()"
   ]
  },
  {
   "cell_type": "code",
   "execution_count": 49,
   "metadata": {},
   "outputs": [
    {
     "data": {
      "text/html": [
       "<div>\n",
       "<style scoped>\n",
       "    .dataframe tbody tr th:only-of-type {\n",
       "        vertical-align: middle;\n",
       "    }\n",
       "\n",
       "    .dataframe tbody tr th {\n",
       "        vertical-align: top;\n",
       "    }\n",
       "\n",
       "    .dataframe thead th {\n",
       "        text-align: right;\n",
       "    }\n",
       "</style>\n",
       "<table border=\"1\" class=\"dataframe\">\n",
       "  <thead>\n",
       "    <tr style=\"text-align: right;\">\n",
       "      <th></th>\n",
       "      <th>region</th>\n",
       "      <th>deal_probability</th>\n",
       "    </tr>\n",
       "  </thead>\n",
       "  <tbody>\n",
       "    <tr>\n",
       "      <th>0</th>\n",
       "      <td>Красноярский край</td>\n",
       "      <td>0.119938</td>\n",
       "    </tr>\n",
       "    <tr>\n",
       "      <th>1</th>\n",
       "      <td>Свердловская область</td>\n",
       "      <td>0.122057</td>\n",
       "    </tr>\n",
       "    <tr>\n",
       "      <th>2</th>\n",
       "      <td>Новосибирская область</td>\n",
       "      <td>0.124424</td>\n",
       "    </tr>\n",
       "    <tr>\n",
       "      <th>3</th>\n",
       "      <td>Тюменская область</td>\n",
       "      <td>0.125285</td>\n",
       "    </tr>\n",
       "    <tr>\n",
       "      <th>4</th>\n",
       "      <td>Ярославская область</td>\n",
       "      <td>0.128717</td>\n",
       "    </tr>\n",
       "    <tr>\n",
       "      <th>5</th>\n",
       "      <td>Омская область</td>\n",
       "      <td>0.129879</td>\n",
       "    </tr>\n",
       "    <tr>\n",
       "      <th>6</th>\n",
       "      <td>Калининградская область</td>\n",
       "      <td>0.131702</td>\n",
       "    </tr>\n",
       "    <tr>\n",
       "      <th>7</th>\n",
       "      <td>Кемеровская область</td>\n",
       "      <td>0.134512</td>\n",
       "    </tr>\n",
       "    <tr>\n",
       "      <th>8</th>\n",
       "      <td>Ростовская область</td>\n",
       "      <td>0.134612</td>\n",
       "    </tr>\n",
       "    <tr>\n",
       "      <th>9</th>\n",
       "      <td>Алтайский край</td>\n",
       "      <td>0.135934</td>\n",
       "    </tr>\n",
       "    <tr>\n",
       "      <th>10</th>\n",
       "      <td>Самарская область</td>\n",
       "      <td>0.136539</td>\n",
       "    </tr>\n",
       "    <tr>\n",
       "      <th>11</th>\n",
       "      <td>Иркутская область</td>\n",
       "      <td>0.140436</td>\n",
       "    </tr>\n",
       "    <tr>\n",
       "      <th>12</th>\n",
       "      <td>Воронежская область</td>\n",
       "      <td>0.140664</td>\n",
       "    </tr>\n",
       "    <tr>\n",
       "      <th>13</th>\n",
       "      <td>Владимирская область</td>\n",
       "      <td>0.142384</td>\n",
       "    </tr>\n",
       "    <tr>\n",
       "      <th>14</th>\n",
       "      <td>Татарстан</td>\n",
       "      <td>0.142398</td>\n",
       "    </tr>\n",
       "    <tr>\n",
       "      <th>15</th>\n",
       "      <td>Челябинская область</td>\n",
       "      <td>0.142864</td>\n",
       "    </tr>\n",
       "    <tr>\n",
       "      <th>16</th>\n",
       "      <td>Тульская область</td>\n",
       "      <td>0.142971</td>\n",
       "    </tr>\n",
       "    <tr>\n",
       "      <th>17</th>\n",
       "      <td>Ханты-Мансийский АО</td>\n",
       "      <td>0.144024</td>\n",
       "    </tr>\n",
       "    <tr>\n",
       "      <th>18</th>\n",
       "      <td>Пермский край</td>\n",
       "      <td>0.144167</td>\n",
       "    </tr>\n",
       "    <tr>\n",
       "      <th>19</th>\n",
       "      <td>Саратовская область</td>\n",
       "      <td>0.145139</td>\n",
       "    </tr>\n",
       "    <tr>\n",
       "      <th>20</th>\n",
       "      <td>Волгоградская область</td>\n",
       "      <td>0.145503</td>\n",
       "    </tr>\n",
       "    <tr>\n",
       "      <th>21</th>\n",
       "      <td>Белгородская область</td>\n",
       "      <td>0.145778</td>\n",
       "    </tr>\n",
       "    <tr>\n",
       "      <th>22</th>\n",
       "      <td>Нижегородская область</td>\n",
       "      <td>0.146475</td>\n",
       "    </tr>\n",
       "    <tr>\n",
       "      <th>23</th>\n",
       "      <td>Удмуртия</td>\n",
       "      <td>0.147261</td>\n",
       "    </tr>\n",
       "    <tr>\n",
       "      <th>24</th>\n",
       "      <td>Краснодарский край</td>\n",
       "      <td>0.147924</td>\n",
       "    </tr>\n",
       "    <tr>\n",
       "      <th>25</th>\n",
       "      <td>Башкортостан</td>\n",
       "      <td>0.148086</td>\n",
       "    </tr>\n",
       "    <tr>\n",
       "      <th>26</th>\n",
       "      <td>Ставропольский край</td>\n",
       "      <td>0.153687</td>\n",
       "    </tr>\n",
       "    <tr>\n",
       "      <th>27</th>\n",
       "      <td>Оренбургская область</td>\n",
       "      <td>0.155519</td>\n",
       "    </tr>\n",
       "  </tbody>\n",
       "</table>\n",
       "</div>"
      ],
      "text/plain": [
       "                     region  deal_probability\n",
       "0         Красноярский край          0.119938\n",
       "1      Свердловская область          0.122057\n",
       "2     Новосибирская область          0.124424\n",
       "3         Тюменская область          0.125285\n",
       "4       Ярославская область          0.128717\n",
       "5            Омская область          0.129879\n",
       "6   Калининградская область          0.131702\n",
       "7       Кемеровская область          0.134512\n",
       "8        Ростовская область          0.134612\n",
       "9            Алтайский край          0.135934\n",
       "10        Самарская область          0.136539\n",
       "11        Иркутская область          0.140436\n",
       "12      Воронежская область          0.140664\n",
       "13     Владимирская область          0.142384\n",
       "14                Татарстан          0.142398\n",
       "15      Челябинская область          0.142864\n",
       "16         Тульская область          0.142971\n",
       "17      Ханты-Мансийский АО          0.144024\n",
       "18            Пермский край          0.144167\n",
       "19      Саратовская область          0.145139\n",
       "20    Волгоградская область          0.145503\n",
       "21     Белгородская область          0.145778\n",
       "22    Нижегородская область          0.146475\n",
       "23                 Удмуртия          0.147261\n",
       "24       Краснодарский край          0.147924\n",
       "25             Башкортостан          0.148086\n",
       "26      Ставропольский край          0.153687\n",
       "27     Оренбургская область          0.155519"
      ]
     },
     "execution_count": 49,
     "metadata": {},
     "output_type": "execute_result"
    }
   ],
   "source": [
    "deal_probability_region"
   ]
  },
  {
   "cell_type": "code",
   "execution_count": 50,
   "metadata": {},
   "outputs": [
    {
     "data": {
      "image/png": "[encoded data removed]",
      "text/plain": [
       "<Figure size 1152x720 with 1 Axes>"
      ]
     },
     "metadata": {},
     "output_type": "display_data"
    }
   ],
   "source": [
    "sns.set(rc={'figure.figsize': (16, 10)})\n",
    "ax = sns.scatterplot(x = 'deal_probability', y = 'region', data = deal_probability_region,\n",
    "                 palette ='plasma_r', ci = False)"
   ]
  },
  {
   "cell_type": "markdown",
   "metadata": {},
   "source": [
    "CATEGORIES"
   ]
  },
  {
   "cell_type": "code",
   "execution_count": 51,
   "metadata": {},
   "outputs": [],
   "source": [
    "#Parent Category \n",
    "deal_probability_parent_category=avito.groupby(['parent_category_name'])['deal_probability'].mean()\n",
    "deal_probability_parent_category=deal_probability_parent_category.sort_values().reset_index()"
   ]
  },
  {
   "cell_type": "code",
   "execution_count": 52,
   "metadata": {},
   "outputs": [
    {
     "data": {
      "text/html": [
       "<div>\n",
       "<style scoped>\n",
       "    .dataframe tbody tr th:only-of-type {\n",
       "        vertical-align: middle;\n",
       "    }\n",
       "\n",
       "    .dataframe tbody tr th {\n",
       "        vertical-align: top;\n",
       "    }\n",
       "\n",
       "    .dataframe thead th {\n",
       "        text-align: right;\n",
       "    }\n",
       "</style>\n",
       "<table border=\"1\" class=\"dataframe\">\n",
       "  <thead>\n",
       "    <tr style=\"text-align: right;\">\n",
       "      <th></th>\n",
       "      <th>parent_category_name</th>\n",
       "      <th>deal_probability</th>\n",
       "    </tr>\n",
       "  </thead>\n",
       "  <tbody>\n",
       "    <tr>\n",
       "      <th>0</th>\n",
       "      <td>Личные вещи</td>\n",
       "      <td>0.075961</td>\n",
       "    </tr>\n",
       "    <tr>\n",
       "      <th>1</th>\n",
       "      <td>Для бизнеса</td>\n",
       "      <td>0.111464</td>\n",
       "    </tr>\n",
       "    <tr>\n",
       "      <th>2</th>\n",
       "      <td>Хобби и отдых</td>\n",
       "      <td>0.123208</td>\n",
       "    </tr>\n",
       "    <tr>\n",
       "      <th>3</th>\n",
       "      <td>Недвижимость</td>\n",
       "      <td>0.142019</td>\n",
       "    </tr>\n",
       "    <tr>\n",
       "      <th>4</th>\n",
       "      <td>Бытовая электроника</td>\n",
       "      <td>0.174961</td>\n",
       "    </tr>\n",
       "    <tr>\n",
       "      <th>5</th>\n",
       "      <td>Для дома и дачи</td>\n",
       "      <td>0.179586</td>\n",
       "    </tr>\n",
       "    <tr>\n",
       "      <th>6</th>\n",
       "      <td>Животные</td>\n",
       "      <td>0.236615</td>\n",
       "    </tr>\n",
       "    <tr>\n",
       "      <th>7</th>\n",
       "      <td>Транспорт</td>\n",
       "      <td>0.262018</td>\n",
       "    </tr>\n",
       "    <tr>\n",
       "      <th>8</th>\n",
       "      <td>Услуги</td>\n",
       "      <td>0.402398</td>\n",
       "    </tr>\n",
       "  </tbody>\n",
       "</table>\n",
       "</div>"
      ],
      "text/plain": [
       "  parent_category_name  deal_probability\n",
       "0          Личные вещи          0.075961\n",
       "1          Для бизнеса          0.111464\n",
       "2        Хобби и отдых          0.123208\n",
       "3         Недвижимость          0.142019\n",
       "4  Бытовая электроника          0.174961\n",
       "5      Для дома и дачи          0.179586\n",
       "6             Животные          0.236615\n",
       "7            Транспорт          0.262018\n",
       "8               Услуги          0.402398"
      ]
     },
     "execution_count": 52,
     "metadata": {},
     "output_type": "execute_result"
    }
   ],
   "source": [
    "deal_probability_parent_category"
   ]
  },
  {
   "cell_type": "code",
   "execution_count": 53,
   "metadata": {},
   "outputs": [
    {
     "data": {
      "image/png": "[encoded data removed]",
      "text/plain": [
       "<Figure size 1152x720 with 1 Axes>"
      ]
     },
     "metadata": {},
     "output_type": "display_data"
    }
   ],
   "source": [
    "sns.set(rc={'figure.figsize': (16, 10)})\n",
    "ax = sns.scatterplot(x = 'deal_probability', y = 'parent_category_name', data = deal_probability_parent_category,\n",
    "                 palette ='plasma_r', ci = False)"
   ]
  },
  {
   "cell_type": "code",
   "execution_count": 54,
   "metadata": {},
   "outputs": [],
   "source": [
    "#averages by categories\n",
    "deal_probability_category=avito.groupby(['category_name'])['deal_probability'].mean()\n",
    "deal_probability_category=deal_probability_category.sort_values().reset_index()"
   ]
  },
  {
   "cell_type": "code",
   "execution_count": 55,
   "metadata": {},
   "outputs": [
    {
     "data": {
      "text/html": [
       "<div>\n",
       "<style scoped>\n",
       "    .dataframe tbody tr th:only-of-type {\n",
       "        vertical-align: middle;\n",
       "    }\n",
       "\n",
       "    .dataframe tbody tr th {\n",
       "        vertical-align: top;\n",
       "    }\n",
       "\n",
       "    .dataframe thead th {\n",
       "        text-align: right;\n",
       "    }\n",
       "</style>\n",
       "<table border=\"1\" class=\"dataframe\">\n",
       "  <thead>\n",
       "    <tr style=\"text-align: right;\">\n",
       "      <th></th>\n",
       "      <th>category_name</th>\n",
       "      <th>deal_probability</th>\n",
       "    </tr>\n",
       "  </thead>\n",
       "  <tbody>\n",
       "    <tr>\n",
       "      <th>0</th>\n",
       "      <td>Книги и журналы</td>\n",
       "      <td>0.039989</td>\n",
       "    </tr>\n",
       "    <tr>\n",
       "      <th>1</th>\n",
       "      <td>Недвижимость за рубежом</td>\n",
       "      <td>0.045465</td>\n",
       "    </tr>\n",
       "    <tr>\n",
       "      <th>2</th>\n",
       "      <td>Одежда, обувь, аксессуары</td>\n",
       "      <td>0.046197</td>\n",
       "    </tr>\n",
       "    <tr>\n",
       "      <th>3</th>\n",
       "      <td>Часы и украшения</td>\n",
       "      <td>0.055634</td>\n",
       "    </tr>\n",
       "    <tr>\n",
       "      <th>4</th>\n",
       "      <td>Детская одежда и обувь</td>\n",
       "      <td>0.061146</td>\n",
       "    </tr>\n",
       "    <tr>\n",
       "      <th>5</th>\n",
       "      <td>Коллекционирование</td>\n",
       "      <td>0.064212</td>\n",
       "    </tr>\n",
       "    <tr>\n",
       "      <th>6</th>\n",
       "      <td>Земельные участки</td>\n",
       "      <td>0.088953</td>\n",
       "    </tr>\n",
       "    <tr>\n",
       "      <th>7</th>\n",
       "      <td>Красота и здоровье</td>\n",
       "      <td>0.092908</td>\n",
       "    </tr>\n",
       "    <tr>\n",
       "      <th>8</th>\n",
       "      <td>Готовый бизнес</td>\n",
       "      <td>0.097731</td>\n",
       "    </tr>\n",
       "    <tr>\n",
       "      <th>9</th>\n",
       "      <td>Посуда и товары для кухни</td>\n",
       "      <td>0.103011</td>\n",
       "    </tr>\n",
       "    <tr>\n",
       "      <th>10</th>\n",
       "      <td>Оборудование для бизнеса</td>\n",
       "      <td>0.113216</td>\n",
       "    </tr>\n",
       "    <tr>\n",
       "      <th>11</th>\n",
       "      <td>Гаражи и машиноместа</td>\n",
       "      <td>0.117090</td>\n",
       "    </tr>\n",
       "    <tr>\n",
       "      <th>12</th>\n",
       "      <td>Коммерческая недвижимость</td>\n",
       "      <td>0.121810</td>\n",
       "    </tr>\n",
       "    <tr>\n",
       "      <th>13</th>\n",
       "      <td>Билеты и путешествия</td>\n",
       "      <td>0.123025</td>\n",
       "    </tr>\n",
       "    <tr>\n",
       "      <th>14</th>\n",
       "      <td>Дома, дачи, коттеджи</td>\n",
       "      <td>0.125358</td>\n",
       "    </tr>\n",
       "    <tr>\n",
       "      <th>15</th>\n",
       "      <td>Фототехника</td>\n",
       "      <td>0.131100</td>\n",
       "    </tr>\n",
       "    <tr>\n",
       "      <th>16</th>\n",
       "      <td>Растения</td>\n",
       "      <td>0.131387</td>\n",
       "    </tr>\n",
       "    <tr>\n",
       "      <th>17</th>\n",
       "      <td>Товары для животных</td>\n",
       "      <td>0.133129</td>\n",
       "    </tr>\n",
       "    <tr>\n",
       "      <th>18</th>\n",
       "      <td>Продукты питания</td>\n",
       "      <td>0.134947</td>\n",
       "    </tr>\n",
       "    <tr>\n",
       "      <th>19</th>\n",
       "      <td>Оргтехника и расходники</td>\n",
       "      <td>0.135507</td>\n",
       "    </tr>\n",
       "    <tr>\n",
       "      <th>20</th>\n",
       "      <td>Охота и рыбалка</td>\n",
       "      <td>0.142979</td>\n",
       "    </tr>\n",
       "    <tr>\n",
       "      <th>21</th>\n",
       "      <td>Спорт и отдых</td>\n",
       "      <td>0.146153</td>\n",
       "    </tr>\n",
       "    <tr>\n",
       "      <th>22</th>\n",
       "      <td>Ремонт и строительство</td>\n",
       "      <td>0.146520</td>\n",
       "    </tr>\n",
       "    <tr>\n",
       "      <th>23</th>\n",
       "      <td>Планшеты и электронные книги</td>\n",
       "      <td>0.151498</td>\n",
       "    </tr>\n",
       "    <tr>\n",
       "      <th>24</th>\n",
       "      <td>Квартиры</td>\n",
       "      <td>0.157916</td>\n",
       "    </tr>\n",
       "    <tr>\n",
       "      <th>25</th>\n",
       "      <td>Товары для компьютера</td>\n",
       "      <td>0.162149</td>\n",
       "    </tr>\n",
       "    <tr>\n",
       "      <th>26</th>\n",
       "      <td>Аудио и видео</td>\n",
       "      <td>0.169910</td>\n",
       "    </tr>\n",
       "    <tr>\n",
       "      <th>27</th>\n",
       "      <td>Грузовики и спецтехника</td>\n",
       "      <td>0.175435</td>\n",
       "    </tr>\n",
       "    <tr>\n",
       "      <th>28</th>\n",
       "      <td>Настольные компьютеры</td>\n",
       "      <td>0.183538</td>\n",
       "    </tr>\n",
       "    <tr>\n",
       "      <th>29</th>\n",
       "      <td>Аквариум</td>\n",
       "      <td>0.184774</td>\n",
       "    </tr>\n",
       "    <tr>\n",
       "      <th>30</th>\n",
       "      <td>Комнаты</td>\n",
       "      <td>0.185410</td>\n",
       "    </tr>\n",
       "    <tr>\n",
       "      <th>31</th>\n",
       "      <td>Телефоны</td>\n",
       "      <td>0.186129</td>\n",
       "    </tr>\n",
       "    <tr>\n",
       "      <th>32</th>\n",
       "      <td>Музыкальные инструменты</td>\n",
       "      <td>0.190919</td>\n",
       "    </tr>\n",
       "    <tr>\n",
       "      <th>33</th>\n",
       "      <td>Мебель и интерьер</td>\n",
       "      <td>0.192385</td>\n",
       "    </tr>\n",
       "    <tr>\n",
       "      <th>34</th>\n",
       "      <td>Товары для детей и игрушки</td>\n",
       "      <td>0.198687</td>\n",
       "    </tr>\n",
       "    <tr>\n",
       "      <th>35</th>\n",
       "      <td>Ноутбуки</td>\n",
       "      <td>0.200481</td>\n",
       "    </tr>\n",
       "    <tr>\n",
       "      <th>36</th>\n",
       "      <td>Игры, приставки и программы</td>\n",
       "      <td>0.201375</td>\n",
       "    </tr>\n",
       "    <tr>\n",
       "      <th>37</th>\n",
       "      <td>Водный транспорт</td>\n",
       "      <td>0.225887</td>\n",
       "    </tr>\n",
       "    <tr>\n",
       "      <th>38</th>\n",
       "      <td>Птицы</td>\n",
       "      <td>0.242751</td>\n",
       "    </tr>\n",
       "    <tr>\n",
       "      <th>39</th>\n",
       "      <td>Велосипеды</td>\n",
       "      <td>0.244389</td>\n",
       "    </tr>\n",
       "    <tr>\n",
       "      <th>40</th>\n",
       "      <td>Мотоциклы и мототехника</td>\n",
       "      <td>0.247859</td>\n",
       "    </tr>\n",
       "    <tr>\n",
       "      <th>41</th>\n",
       "      <td>Собаки</td>\n",
       "      <td>0.250565</td>\n",
       "    </tr>\n",
       "    <tr>\n",
       "      <th>42</th>\n",
       "      <td>Бытовая техника</td>\n",
       "      <td>0.250862</td>\n",
       "    </tr>\n",
       "    <tr>\n",
       "      <th>43</th>\n",
       "      <td>Другие животные</td>\n",
       "      <td>0.263340</td>\n",
       "    </tr>\n",
       "    <tr>\n",
       "      <th>44</th>\n",
       "      <td>Автомобили</td>\n",
       "      <td>0.277709</td>\n",
       "    </tr>\n",
       "    <tr>\n",
       "      <th>45</th>\n",
       "      <td>Кошки</td>\n",
       "      <td>0.299973</td>\n",
       "    </tr>\n",
       "    <tr>\n",
       "      <th>46</th>\n",
       "      <td>Предложение услуг</td>\n",
       "      <td>0.402398</td>\n",
       "    </tr>\n",
       "  </tbody>\n",
       "</table>\n",
       "</div>"
      ],
      "text/plain": [
       "                   category_name  deal_probability\n",
       "0                Книги и журналы          0.039989\n",
       "1        Недвижимость за рубежом          0.045465\n",
       "2      Одежда, обувь, аксессуары          0.046197\n",
       "3               Часы и украшения          0.055634\n",
       "4         Детская одежда и обувь          0.061146\n",
       "5             Коллекционирование          0.064212\n",
       "6              Земельные участки          0.088953\n",
       "7             Красота и здоровье          0.092908\n",
       "8                 Готовый бизнес          0.097731\n",
       "9      Посуда и товары для кухни          0.103011\n",
       "10      Оборудование для бизнеса          0.113216\n",
       "11          Гаражи и машиноместа          0.117090\n",
       "12     Коммерческая недвижимость          0.121810\n",
       "13          Билеты и путешествия          0.123025\n",
       "14          Дома, дачи, коттеджи          0.125358\n",
       "15                   Фототехника          0.131100\n",
       "16                      Растения          0.131387\n",
       "17           Товары для животных          0.133129\n",
       "18              Продукты питания          0.134947\n",
       "19       Оргтехника и расходники          0.135507\n",
       "20               Охота и рыбалка          0.142979\n",
       "21                 Спорт и отдых          0.146153\n",
       "22        Ремонт и строительство          0.146520\n",
       "23  Планшеты и электронные книги          0.151498\n",
       "24                      Квартиры          0.157916\n",
       "25         Товары для компьютера          0.162149\n",
       "26                 Аудио и видео          0.169910\n",
       "27       Грузовики и спецтехника          0.175435\n",
       "28         Настольные компьютеры          0.183538\n",
       "29                      Аквариум          0.184774\n",
       "30                       Комнаты          0.185410\n",
       "31                      Телефоны          0.186129\n",
       "32       Музыкальные инструменты          0.190919\n",
       "33             Мебель и интерьер          0.192385\n",
       "34    Товары для детей и игрушки          0.198687\n",
       "35                      Ноутбуки          0.200481\n",
       "36   Игры, приставки и программы          0.201375\n",
       "37              Водный транспорт          0.225887\n",
       "38                         Птицы          0.242751\n",
       "39                    Велосипеды          0.244389\n",
       "40       Мотоциклы и мототехника          0.247859\n",
       "41                        Собаки          0.250565\n",
       "42               Бытовая техника          0.250862\n",
       "43               Другие животные          0.263340\n",
       "44                    Автомобили          0.277709\n",
       "45                         Кошки          0.299973\n",
       "46             Предложение услуг          0.402398"
      ]
     },
     "execution_count": 55,
     "metadata": {},
     "output_type": "execute_result"
    }
   ],
   "source": [
    "deal_probability_category"
   ]
  },
  {
   "cell_type": "code",
   "execution_count": 56,
   "metadata": {},
   "outputs": [
    {
     "data": {
      "image/png": "[encoded data removed]",
      "text/plain": [
       "<Figure size 1152x720 with 1 Axes>"
      ]
     },
     "metadata": {},
     "output_type": "display_data"
    }
   ],
   "source": [
    "sns.set(rc={'figure.figsize': (16, 10)})\n",
    "ax = sns.scatterplot(x = 'deal_probability', y = 'category_name', data = deal_probability_category,\n",
    "                 palette ='plasma_r', ci = False)"
   ]
  },
  {
   "cell_type": "code",
   "execution_count": 57,
   "metadata": {},
   "outputs": [],
   "source": [
    "deal_category_more=deal_probability_category[deal_probability_category['deal_probability']>=0.2]"
   ]
  },
  {
   "cell_type": "code",
   "execution_count": 58,
   "metadata": {},
   "outputs": [
    {
     "data": {
      "image/png": "[encoded data removed]",
      "text/plain": [
       "<Figure size 1152x720 with 1 Axes>"
      ]
     },
     "metadata": {},
     "output_type": "display_data"
    }
   ],
   "source": [
    "sns.set(rc={'figure.figsize': (16, 10)})\n",
    "ax = sns.scatterplot(x = 'deal_probability', y = 'category_name', data = deal_category_more,\n",
    "                 palette ='plasma_r', ci = False)"
   ]
  },
  {
   "cell_type": "markdown",
   "metadata": {},
   "source": [
    "CITY"
   ]
  },
  {
   "cell_type": "code",
   "execution_count": 59,
   "metadata": {},
   "outputs": [],
   "source": [
    "#averages by city\n",
    "deal_probability_city=avito.groupby(['city'])['deal_probability'].mean()\n",
    "deal_probability_city=deal_probability_city.sort_values().reset_index()"
   ]
  },
  {
   "cell_type": "code",
   "execution_count": 60,
   "metadata": {},
   "outputs": [
    {
     "data": {
      "text/html": [
       "<div>\n",
       "<style scoped>\n",
       "    .dataframe tbody tr th:only-of-type {\n",
       "        vertical-align: middle;\n",
       "    }\n",
       "\n",
       "    .dataframe tbody tr th {\n",
       "        vertical-align: top;\n",
       "    }\n",
       "\n",
       "    .dataframe thead th {\n",
       "        text-align: right;\n",
       "    }\n",
       "</style>\n",
       "<table border=\"1\" class=\"dataframe\">\n",
       "  <thead>\n",
       "    <tr style=\"text-align: right;\">\n",
       "      <th></th>\n",
       "      <th>city</th>\n",
       "      <th>deal_probability</th>\n",
       "    </tr>\n",
       "  </thead>\n",
       "  <tbody>\n",
       "    <tr>\n",
       "      <th>0</th>\n",
       "      <td>Баговская</td>\n",
       "      <td>0.000000</td>\n",
       "    </tr>\n",
       "    <tr>\n",
       "      <th>1</th>\n",
       "      <td>Свободы</td>\n",
       "      <td>0.000000</td>\n",
       "    </tr>\n",
       "    <tr>\n",
       "      <th>2</th>\n",
       "      <td>Нижнетроицкий</td>\n",
       "      <td>0.000000</td>\n",
       "    </tr>\n",
       "    <tr>\n",
       "      <th>3</th>\n",
       "      <td>Роговатое</td>\n",
       "      <td>0.000000</td>\n",
       "    </tr>\n",
       "    <tr>\n",
       "      <th>4</th>\n",
       "      <td>Кама</td>\n",
       "      <td>0.000000</td>\n",
       "    </tr>\n",
       "    <tr>\n",
       "      <th>...</th>\n",
       "      <td>...</td>\n",
       "      <td>...</td>\n",
       "    </tr>\n",
       "    <tr>\n",
       "      <th>1698</th>\n",
       "      <td>Матмасы</td>\n",
       "      <td>0.737600</td>\n",
       "    </tr>\n",
       "    <tr>\n",
       "      <th>1699</th>\n",
       "      <td>Воля</td>\n",
       "      <td>0.739015</td>\n",
       "    </tr>\n",
       "    <tr>\n",
       "      <th>1700</th>\n",
       "      <td>Новая Таволжанка</td>\n",
       "      <td>0.740430</td>\n",
       "    </tr>\n",
       "    <tr>\n",
       "      <th>1701</th>\n",
       "      <td>Орловка</td>\n",
       "      <td>0.785010</td>\n",
       "    </tr>\n",
       "    <tr>\n",
       "      <th>1702</th>\n",
       "      <td>Приволжский</td>\n",
       "      <td>0.826680</td>\n",
       "    </tr>\n",
       "  </tbody>\n",
       "</table>\n",
       "<p>1703 rows × 2 columns</p>\n",
       "</div>"
      ],
      "text/plain": [
       "                  city  deal_probability\n",
       "0            Баговская          0.000000\n",
       "1              Свободы          0.000000\n",
       "2        Нижнетроицкий          0.000000\n",
       "3            Роговатое          0.000000\n",
       "4                 Кама          0.000000\n",
       "...                ...               ...\n",
       "1698           Матмасы          0.737600\n",
       "1699              Воля          0.739015\n",
       "1700  Новая Таволжанка          0.740430\n",
       "1701           Орловка          0.785010\n",
       "1702       Приволжский          0.826680\n",
       "\n",
       "[1703 rows x 2 columns]"
      ]
     },
     "execution_count": 60,
     "metadata": {},
     "output_type": "execute_result"
    }
   ],
   "source": [
    "deal_probability_city"
   ]
  },
  {
   "cell_type": "code",
   "execution_count": 61,
   "metadata": {},
   "outputs": [],
   "source": [
    "#deal prob more than 0.5\n",
    "deal_city_more=deal_probability_city[deal_probability_city['deal_probability']>=0.5]"
   ]
  },
  {
   "cell_type": "code",
   "execution_count": 62,
   "metadata": {},
   "outputs": [
    {
     "data": {
      "text/html": [
       "<div>\n",
       "<style scoped>\n",
       "    .dataframe tbody tr th:only-of-type {\n",
       "        vertical-align: middle;\n",
       "    }\n",
       "\n",
       "    .dataframe tbody tr th {\n",
       "        vertical-align: top;\n",
       "    }\n",
       "\n",
       "    .dataframe thead th {\n",
       "        text-align: right;\n",
       "    }\n",
       "</style>\n",
       "<table border=\"1\" class=\"dataframe\">\n",
       "  <thead>\n",
       "    <tr style=\"text-align: right;\">\n",
       "      <th></th>\n",
       "      <th>city</th>\n",
       "      <th>deal_probability</th>\n",
       "    </tr>\n",
       "  </thead>\n",
       "  <tbody>\n",
       "    <tr>\n",
       "      <th>1692</th>\n",
       "      <td>Скородное</td>\n",
       "      <td>0.524817</td>\n",
       "    </tr>\n",
       "    <tr>\n",
       "      <th>1693</th>\n",
       "      <td>Грахово</td>\n",
       "      <td>0.527495</td>\n",
       "    </tr>\n",
       "    <tr>\n",
       "      <th>1694</th>\n",
       "      <td>Лог</td>\n",
       "      <td>0.528410</td>\n",
       "    </tr>\n",
       "    <tr>\n",
       "      <th>1695</th>\n",
       "      <td>Бурлацкое</td>\n",
       "      <td>0.571207</td>\n",
       "    </tr>\n",
       "    <tr>\n",
       "      <th>1696</th>\n",
       "      <td>Быстрогорский</td>\n",
       "      <td>0.595410</td>\n",
       "    </tr>\n",
       "    <tr>\n",
       "      <th>1697</th>\n",
       "      <td>Виля</td>\n",
       "      <td>0.737600</td>\n",
       "    </tr>\n",
       "    <tr>\n",
       "      <th>1698</th>\n",
       "      <td>Матмасы</td>\n",
       "      <td>0.737600</td>\n",
       "    </tr>\n",
       "    <tr>\n",
       "      <th>1699</th>\n",
       "      <td>Воля</td>\n",
       "      <td>0.739015</td>\n",
       "    </tr>\n",
       "    <tr>\n",
       "      <th>1700</th>\n",
       "      <td>Новая Таволжанка</td>\n",
       "      <td>0.740430</td>\n",
       "    </tr>\n",
       "    <tr>\n",
       "      <th>1701</th>\n",
       "      <td>Орловка</td>\n",
       "      <td>0.785010</td>\n",
       "    </tr>\n",
       "    <tr>\n",
       "      <th>1702</th>\n",
       "      <td>Приволжский</td>\n",
       "      <td>0.826680</td>\n",
       "    </tr>\n",
       "  </tbody>\n",
       "</table>\n",
       "</div>"
      ],
      "text/plain": [
       "                  city  deal_probability\n",
       "1692         Скородное          0.524817\n",
       "1693           Грахово          0.527495\n",
       "1694               Лог          0.528410\n",
       "1695         Бурлацкое          0.571207\n",
       "1696     Быстрогорский          0.595410\n",
       "1697              Виля          0.737600\n",
       "1698           Матмасы          0.737600\n",
       "1699              Воля          0.739015\n",
       "1700  Новая Таволжанка          0.740430\n",
       "1701           Орловка          0.785010\n",
       "1702       Приволжский          0.826680"
      ]
     },
     "execution_count": 62,
     "metadata": {},
     "output_type": "execute_result"
    }
   ],
   "source": [
    "deal_city_more"
   ]
  },
  {
   "cell_type": "code",
   "execution_count": 63,
   "metadata": {},
   "outputs": [
    {
     "data": {
      "image/png": "[encoded data removed]",
      "text/plain": [
       "<Figure size 1152x720 with 1 Axes>"
      ]
     },
     "metadata": {},
     "output_type": "display_data"
    }
   ],
   "source": [
    "sns.set(rc={'figure.figsize': (16, 10)})\n",
    "ax = sns.scatterplot(x = 'deal_probability', y = 'city', data = deal_city_more,\n",
    "                 palette ='plasma_r', ci = False)"
   ]
  },
  {
   "cell_type": "markdown",
   "metadata": {},
   "source": [
    "USER"
   ]
  },
  {
   "cell_type": "code",
   "execution_count": 64,
   "metadata": {},
   "outputs": [],
   "source": [
    "deal_probability_user_type=avito.groupby(['user_type'])['deal_probability'].mean()\n",
    "deal_probability_user_type=deal_probability_user_type.sort_values().reset_index()"
   ]
  },
  {
   "cell_type": "code",
   "execution_count": 65,
   "metadata": {},
   "outputs": [
    {
     "data": {
      "text/html": [
       "<div>\n",
       "<style scoped>\n",
       "    .dataframe tbody tr th:only-of-type {\n",
       "        vertical-align: middle;\n",
       "    }\n",
       "\n",
       "    .dataframe tbody tr th {\n",
       "        vertical-align: top;\n",
       "    }\n",
       "\n",
       "    .dataframe thead th {\n",
       "        text-align: right;\n",
       "    }\n",
       "</style>\n",
       "<table border=\"1\" class=\"dataframe\">\n",
       "  <thead>\n",
       "    <tr style=\"text-align: right;\">\n",
       "      <th></th>\n",
       "      <th>user_type</th>\n",
       "      <th>deal_probability</th>\n",
       "    </tr>\n",
       "  </thead>\n",
       "  <tbody>\n",
       "    <tr>\n",
       "      <th>0</th>\n",
       "      <td>Shop</td>\n",
       "      <td>0.062504</td>\n",
       "    </tr>\n",
       "    <tr>\n",
       "      <th>1</th>\n",
       "      <td>Company</td>\n",
       "      <td>0.124623</td>\n",
       "    </tr>\n",
       "    <tr>\n",
       "      <th>2</th>\n",
       "      <td>Private</td>\n",
       "      <td>0.149362</td>\n",
       "    </tr>\n",
       "  </tbody>\n",
       "</table>\n",
       "</div>"
      ],
      "text/plain": [
       "  user_type  deal_probability\n",
       "0      Shop          0.062504\n",
       "1   Company          0.124623\n",
       "2   Private          0.149362"
      ]
     },
     "execution_count": 65,
     "metadata": {},
     "output_type": "execute_result"
    }
   ],
   "source": [
    "deal_probability_user_type"
   ]
  },
  {
   "cell_type": "code",
   "execution_count": 66,
   "metadata": {},
   "outputs": [
    {
     "data": {
      "image/png": "[encoded data removed]",
      "text/plain": [
       "<Figure size 1152x720 with 1 Axes>"
      ]
     },
     "metadata": {},
     "output_type": "display_data"
    }
   ],
   "source": [
    "sns.set(rc={'figure.figsize': (16, 10)})\n",
    "ax = sns.barplot(x = 'deal_probability', y = 'user_type', data = deal_probability_user_type,\n",
    "                 palette ='plasma_r', ci = False)"
   ]
  },
  {
   "cell_type": "code",
   "execution_count": 67,
   "metadata": {},
   "outputs": [],
   "source": [
    "deal_probability_price=avito.groupby(['price'])['deal_probability'].mean()\n",
    "deal_probability_price=deal_probability_price.sort_values().reset_index()"
   ]
  },
  {
   "cell_type": "code",
   "execution_count": 68,
   "metadata": {},
   "outputs": [
    {
     "data": {
      "text/plain": [
       "177.0"
      ]
     },
     "execution_count": 68,
     "metadata": {},
     "output_type": "execute_result"
    }
   ],
   "source": [
    "deal_probability_price_more=deal_probability_price[deal_probability_price['deal_probability']>=0.5]\n",
    "min(deal_probability_price_more['price'])"
   ]
  },
  {
   "cell_type": "code",
   "execution_count": 69,
   "metadata": {},
   "outputs": [
    {
     "data": {
      "text/plain": [
       "99999999.0"
      ]
     },
     "execution_count": 69,
     "metadata": {},
     "output_type": "execute_result"
    }
   ],
   "source": [
    "max(deal_probability_price_more['price'])"
   ]
  },
  {
   "cell_type": "code",
   "execution_count": 70,
   "metadata": {},
   "outputs": [
    {
     "data": {
      "text/html": [
       "<div>\n",
       "<style scoped>\n",
       "    .dataframe tbody tr th:only-of-type {\n",
       "        vertical-align: middle;\n",
       "    }\n",
       "\n",
       "    .dataframe tbody tr th {\n",
       "        vertical-align: top;\n",
       "    }\n",
       "\n",
       "    .dataframe thead th {\n",
       "        text-align: right;\n",
       "    }\n",
       "</style>\n",
       "<table border=\"1\" class=\"dataframe\">\n",
       "  <thead>\n",
       "    <tr style=\"text-align: right;\">\n",
       "      <th></th>\n",
       "      <th>price</th>\n",
       "      <th>deal_probability</th>\n",
       "    </tr>\n",
       "  </thead>\n",
       "  <tbody>\n",
       "    <tr>\n",
       "      <th>count</th>\n",
       "      <td>1.600000e+02</td>\n",
       "      <td>160.000000</td>\n",
       "    </tr>\n",
       "    <tr>\n",
       "      <th>mean</th>\n",
       "      <td>1.540219e+06</td>\n",
       "      <td>0.701079</td>\n",
       "    </tr>\n",
       "    <tr>\n",
       "      <th>std</th>\n",
       "      <td>9.658515e+06</td>\n",
       "      <td>0.104625</td>\n",
       "    </tr>\n",
       "    <tr>\n",
       "      <th>min</th>\n",
       "      <td>1.770000e+02</td>\n",
       "      <td>0.500000</td>\n",
       "    </tr>\n",
       "    <tr>\n",
       "      <th>25%</th>\n",
       "      <td>1.541600e+04</td>\n",
       "      <td>0.618781</td>\n",
       "    </tr>\n",
       "    <tr>\n",
       "      <th>50%</th>\n",
       "      <td>1.703995e+05</td>\n",
       "      <td>0.737600</td>\n",
       "    </tr>\n",
       "    <tr>\n",
       "      <th>75%</th>\n",
       "      <td>4.016000e+05</td>\n",
       "      <td>0.767860</td>\n",
       "    </tr>\n",
       "    <tr>\n",
       "      <th>max</th>\n",
       "      <td>1.000000e+08</td>\n",
       "      <td>1.000000</td>\n",
       "    </tr>\n",
       "  </tbody>\n",
       "</table>\n",
       "</div>"
      ],
      "text/plain": [
       "              price  deal_probability\n",
       "count  1.600000e+02        160.000000\n",
       "mean   1.540219e+06          0.701079\n",
       "std    9.658515e+06          0.104625\n",
       "min    1.770000e+02          0.500000\n",
       "25%    1.541600e+04          0.618781\n",
       "50%    1.703995e+05          0.737600\n",
       "75%    4.016000e+05          0.767860\n",
       "max    1.000000e+08          1.000000"
      ]
     },
     "execution_count": 70,
     "metadata": {},
     "output_type": "execute_result"
    }
   ],
   "source": [
    "deal_probability_price_more.describe()"
   ]
  },
  {
   "cell_type": "code",
   "execution_count": 71,
   "metadata": {},
   "outputs": [
    {
     "data": {
      "text/plain": [
       "<matplotlib.axes._subplots.AxesSubplot at 0x18ad65c9148>"
      ]
     },
     "execution_count": 71,
     "metadata": {},
     "output_type": "execute_result"
    },
    {
     "data": {
      "image/png": "[encoded data removed]",
      "text/plain": [
       "<Figure size 1152x720 with 1 Axes>"
      ]
     },
     "metadata": {},
     "output_type": "display_data"
    }
   ],
   "source": [
    "sns.scatterplot(x='deal_probability', y='price', data=deal_probability_price_more)"
   ]
  },
  {
   "cell_type": "code",
   "execution_count": 72,
   "metadata": {},
   "outputs": [
    {
     "data": {
      "text/plain": [
       "1005862"
      ]
     },
     "execution_count": 72,
     "metadata": {},
     "output_type": "execute_result"
    }
   ],
   "source": [
    "#1 out of 3\n",
    "avito['param_1'].notnull().sum()"
   ]
  },
  {
   "cell_type": "code",
   "execution_count": 73,
   "metadata": {},
   "outputs": [
    {
     "data": {
      "text/plain": [
       "0.13812120743203343"
      ]
     },
     "execution_count": 73,
     "metadata": {},
     "output_type": "execute_result"
    }
   ],
   "source": [
    "avito[avito['param_1'].notnull()]['deal_probability'].mean()"
   ]
  },
  {
   "cell_type": "code",
   "execution_count": 74,
   "metadata": {},
   "outputs": [
    {
     "data": {
      "text/plain": [
       "0.1602398225364643"
      ]
     },
     "execution_count": 74,
     "metadata": {},
     "output_type": "execute_result"
    }
   ],
   "source": [
    "avito[avito['param_1'].isnull()]['deal_probability'].mean()"
   ]
  },
  {
   "cell_type": "code",
   "execution_count": 75,
   "metadata": {},
   "outputs": [
    {
     "data": {
      "text/plain": [
       "591604"
      ]
     },
     "execution_count": 75,
     "metadata": {},
     "output_type": "execute_result"
    }
   ],
   "source": [
    "#2 out of 3\n",
    "avito['param_2'].notnull().sum()"
   ]
  },
  {
   "cell_type": "code",
   "execution_count": 76,
   "metadata": {},
   "outputs": [
    {
     "data": {
      "text/plain": [
       "0.11530900161256516"
      ]
     },
     "execution_count": 76,
     "metadata": {},
     "output_type": "execute_result"
    }
   ],
   "source": [
    "avito[avito['param_2'].notnull()]['deal_probability'].mean()"
   ]
  },
  {
   "cell_type": "code",
   "execution_count": 77,
   "metadata": {},
   "outputs": [
    {
     "data": {
      "text/plain": [
       "0.16972177862490181"
      ]
     },
     "execution_count": 77,
     "metadata": {},
     "output_type": "execute_result"
    }
   ],
   "source": [
    "avito[avito['param_2'].isnull()]['deal_probability'].mean()"
   ]
  },
  {
   "cell_type": "code",
   "execution_count": 78,
   "metadata": {},
   "outputs": [
    {
     "data": {
      "text/plain": [
       "447054"
      ]
     },
     "execution_count": 78,
     "metadata": {},
     "output_type": "execute_result"
    }
   ],
   "source": [
    "#3 out of 3\n",
    "avito['param_3'].notnull().sum()"
   ]
  },
  {
   "cell_type": "code",
   "execution_count": 79,
   "metadata": {},
   "outputs": [
    {
     "data": {
      "text/plain": [
       "0.09128686697803844"
      ]
     },
     "execution_count": 79,
     "metadata": {},
     "output_type": "execute_result"
    }
   ],
   "source": [
    "avito[avito['param_3'].notnull()]['deal_probability'].mean()"
   ]
  },
  {
   "cell_type": "code",
   "execution_count": 80,
   "metadata": {},
   "outputs": [
    {
     "data": {
      "text/plain": [
       "0.17449937485141834"
      ]
     },
     "execution_count": 80,
     "metadata": {},
     "output_type": "execute_result"
    }
   ],
   "source": [
    "avito[avito['param_3'].isnull()]['deal_probability'].mean()"
   ]
  },
  {
   "cell_type": "markdown",
   "metadata": {},
   "source": [
    "Chi TESTING"
   ]
  },
  {
   "cell_type": "code",
   "execution_count": 81,
   "metadata": {},
   "outputs": [
    {
     "ename": "AttributeError",
     "evalue": "'DataFrame' object has no attribute 'crosstab'",
     "output_type": "error",
     "traceback": [
      "\u001b[1;31m---------------------------------------------------------------------------\u001b[0m",
      "\u001b[1;31mAttributeError\u001b[0m                            Traceback (most recent call last)",
      "\u001b[1;32m<ipython-input-81-94069b2f5e45>\u001b[0m in \u001b[0;36m<module>\u001b[1;34m\u001b[0m\n\u001b[1;32m----> 1\u001b[1;33m \u001b[0mavito\u001b[0m\u001b[1;33m.\u001b[0m\u001b[0mcrosstab\u001b[0m\u001b[1;33m(\u001b[0m\u001b[0mmerged\u001b[0m\u001b[1;33m[\u001b[0m\u001b[1;34m'param_1'\u001b[0m\u001b[1;33m]\u001b[0m\u001b[1;33m,\u001b[0m \u001b[0mmerged\u001b[0m\u001b[1;33m[\u001b[0m\u001b[1;34m'deal_probability'\u001b[0m\u001b[1;33m]\u001b[0m\u001b[1;33m)\u001b[0m\u001b[1;33m\u001b[0m\u001b[1;33m\u001b[0m\u001b[0m\n\u001b[0m\u001b[0;32m      2\u001b[0m \u001b[0mobserved\u001b[0m \u001b[1;33m=\u001b[0m \u001b[0mpavito\u001b[0m\u001b[1;33m.\u001b[0m\u001b[0mcrosstab\u001b[0m\u001b[1;33m(\u001b[0m\u001b[0mmerged\u001b[0m\u001b[1;33m[\u001b[0m\u001b[1;34m'param_1'\u001b[0m\u001b[1;33m]\u001b[0m\u001b[1;33m,\u001b[0m \u001b[0mmerged\u001b[0m\u001b[1;33m[\u001b[0m\u001b[1;34m'deal_probability'\u001b[0m\u001b[1;33m]\u001b[0m\u001b[1;33m)\u001b[0m\u001b[1;33m\u001b[0m\u001b[1;33m\u001b[0m\u001b[0m\n\u001b[0;32m      3\u001b[0m \u001b[0mchi2_contingency\u001b[0m\u001b[1;33m(\u001b[0m\u001b[0mobserved\u001b[0m\u001b[1;33m)\u001b[0m\u001b[1;33m\u001b[0m\u001b[1;33m\u001b[0m\u001b[0m\n",
      "\u001b[1;32m~\\miniconda3\\lib\\site-packages\\pandas\\core\\generic.py\u001b[0m in \u001b[0;36m__getattr__\u001b[1;34m(self, name)\u001b[0m\n\u001b[0;32m   5272\u001b[0m             \u001b[1;32mif\u001b[0m \u001b[0mself\u001b[0m\u001b[1;33m.\u001b[0m\u001b[0m_info_axis\u001b[0m\u001b[1;33m.\u001b[0m\u001b[0m_can_hold_identifiers_and_holds_name\u001b[0m\u001b[1;33m(\u001b[0m\u001b[0mname\u001b[0m\u001b[1;33m)\u001b[0m\u001b[1;33m:\u001b[0m\u001b[1;33m\u001b[0m\u001b[1;33m\u001b[0m\u001b[0m\n\u001b[0;32m   5273\u001b[0m                 \u001b[1;32mreturn\u001b[0m \u001b[0mself\u001b[0m\u001b[1;33m[\u001b[0m\u001b[0mname\u001b[0m\u001b[1;33m]\u001b[0m\u001b[1;33m\u001b[0m\u001b[1;33m\u001b[0m\u001b[0m\n\u001b[1;32m-> 5274\u001b[1;33m             \u001b[1;32mreturn\u001b[0m \u001b[0mobject\u001b[0m\u001b[1;33m.\u001b[0m\u001b[0m__getattribute__\u001b[0m\u001b[1;33m(\u001b[0m\u001b[0mself\u001b[0m\u001b[1;33m,\u001b[0m \u001b[0mname\u001b[0m\u001b[1;33m)\u001b[0m\u001b[1;33m\u001b[0m\u001b[1;33m\u001b[0m\u001b[0m\n\u001b[0m\u001b[0;32m   5275\u001b[0m \u001b[1;33m\u001b[0m\u001b[0m\n\u001b[0;32m   5276\u001b[0m     \u001b[1;32mdef\u001b[0m \u001b[0m__setattr__\u001b[0m\u001b[1;33m(\u001b[0m\u001b[0mself\u001b[0m\u001b[1;33m,\u001b[0m \u001b[0mname\u001b[0m\u001b[1;33m:\u001b[0m \u001b[0mstr\u001b[0m\u001b[1;33m,\u001b[0m \u001b[0mvalue\u001b[0m\u001b[1;33m)\u001b[0m \u001b[1;33m->\u001b[0m \u001b[1;32mNone\u001b[0m\u001b[1;33m:\u001b[0m\u001b[1;33m\u001b[0m\u001b[1;33m\u001b[0m\u001b[0m\n",
      "\u001b[1;31mAttributeError\u001b[0m: 'DataFrame' object has no attribute 'crosstab'"
     ]
    }
   ],
   "source": [
    "avito.crosstab(merged['param_1'], merged['deal_probability']) \n",
    "observed = pavito.crosstab(merged['param_1'], merged['deal_probability']) \n",
    "chi2_contingency(observed)"
   ]
  },
  {
   "cell_type": "markdown",
   "metadata": {},
   "source": [
    "T-TESTING"
   ]
  },
  {
   "cell_type": "markdown",
   "metadata": {},
   "source": [
    "PARAM 1"
   ]
  },
  {
   "cell_type": "code",
   "execution_count": 40,
   "metadata": {},
   "outputs": [
    {
     "data": {
      "text/plain": [
       "Ttest_indResult(statistic=-17.164183423475794, pvalue=7.870320512801951e-66)"
      ]
     },
     "execution_count": 40,
     "metadata": {},
     "output_type": "execute_result"
    }
   ],
   "source": [
    "#the pvalue is too low therefore the null hypothesis gets \"rejected\"\n",
    "stats.ttest_ind(avito[avito['param_1'].notnull()]['deal_probability'], avito[avito['param_1'].isnull()]['deal_probability'], equal_var=False)"
   ]
  },
  {
   "cell_type": "markdown",
   "metadata": {},
   "source": [
    "PARAM 2"
   ]
  },
  {
   "cell_type": "code",
   "execution_count": 41,
   "metadata": {},
   "outputs": [
    {
     "data": {
      "text/plain": [
       "Ttest_indResult(statistic=-104.37619924361064, pvalue=0.0)"
      ]
     },
     "execution_count": 41,
     "metadata": {},
     "output_type": "execute_result"
    }
   ],
   "source": [
    "#pvalue shows high significance\n",
    "stats.ttest_ind(avito[avito['param_2'].notnull()]['deal_probability'], avito[avito['param_2'].isnull()]['deal_probability'], equal_var=False)"
   ]
  },
  {
   "cell_type": "markdown",
   "metadata": {},
   "source": [
    "PARAM 3"
   ]
  },
  {
   "cell_type": "code",
   "execution_count": 42,
   "metadata": {},
   "outputs": [
    {
     "data": {
      "text/plain": [
       "Ttest_indResult(statistic=-172.06945593409404, pvalue=0.0)"
      ]
     },
     "execution_count": 42,
     "metadata": {},
     "output_type": "execute_result"
    }
   ],
   "source": [
    "#pvalue shows high significance\n",
    "stats.ttest_ind(avito[avito['param_3'].notnull()]['deal_probability'], avito[avito['param_3'].isnull()]['deal_probability'], equal_var=False)"
   ]
  },
  {
   "cell_type": "code",
   "execution_count": null,
   "metadata": {},
   "outputs": [],
   "source": []
  },
  {
   "cell_type": "markdown",
   "metadata": {},
   "source": [
    "PRICE of more than 100000 and less than 100000"
   ]
  },
  {
   "cell_type": "code",
   "execution_count": 43,
   "metadata": {},
   "outputs": [
    {
     "data": {
      "text/plain": [
       "Ttest_indResult(statistic=15.513706742069179, pvalue=3.039640861565235e-54)"
      ]
     },
     "execution_count": 43,
     "metadata": {},
     "output_type": "execute_result"
    }
   ],
   "source": [
    "stats.ttest_ind(avito[avito['price']>=100000]['deal_probability'], avito[avito['price']<=99999]['deal_probability'], equal_var=False)"
   ]
  },
  {
   "cell_type": "markdown",
   "metadata": {},
   "source": [
    "Parent Category Name"
   ]
  },
  {
   "cell_type": "code",
   "execution_count": 44,
   "metadata": {},
   "outputs": [
    {
     "data": {
      "text/plain": [
       "Ttest_indResult(statistic=nan, pvalue=nan)"
      ]
     },
     "execution_count": 44,
     "metadata": {},
     "output_type": "execute_result"
    }
   ],
   "source": [
    "stats.ttest_ind(avito[avito['parent_category_name']== 'услуги']['deal_probability'], avito[avito['parent_category_name']== 'личные вещи']['deal_probability'], equal_var=False)"
   ]
  },
  {
   "cell_type": "code",
   "execution_count": 45,
   "metadata": {},
   "outputs": [
    {
     "data": {
      "text/plain": [
       "Ttest_indResult(statistic=nan, pvalue=nan)"
      ]
     },
     "execution_count": 45,
     "metadata": {},
     "output_type": "execute_result"
    }
   ],
   "source": [
    "stats.ttest_ind(avito[avito['category_name']== 'предложение услуг']['deal_probability'], avito[avito['category_name']== 'птицы']['deal_probability'], equal_var=False)"
   ]
  },
  {
   "cell_type": "markdown",
   "metadata": {},
   "source": [
    "RANDOM SAMPLE"
   ]
  },
  {
   "cell_type": "code",
   "execution_count": 46,
   "metadata": {},
   "outputs": [
    {
     "data": {
      "text/html": [
       "<div>\n",
       "<style scoped>\n",
       "    .dataframe tbody tr th:only-of-type {\n",
       "        vertical-align: middle;\n",
       "    }\n",
       "\n",
       "    .dataframe tbody tr th {\n",
       "        vertical-align: top;\n",
       "    }\n",
       "\n",
       "    .dataframe thead th {\n",
       "        text-align: right;\n",
       "    }\n",
       "</style>\n",
       "<table border=\"1\" class=\"dataframe\">\n",
       "  <thead>\n",
       "    <tr style=\"text-align: right;\">\n",
       "      <th></th>\n",
       "      <th>region</th>\n",
       "      <th>city</th>\n",
       "      <th>parent_category_name</th>\n",
       "      <th>category_name</th>\n",
       "      <th>param_1</th>\n",
       "      <th>param_2</th>\n",
       "      <th>param_3</th>\n",
       "      <th>title</th>\n",
       "      <th>description</th>\n",
       "      <th>price</th>\n",
       "      <th>activation_date</th>\n",
       "      <th>user_type</th>\n",
       "      <th>deal_probability</th>\n",
       "    </tr>\n",
       "  </thead>\n",
       "  <tbody>\n",
       "    <tr>\n",
       "      <th>483377</th>\n",
       "      <td>Волгоградская область</td>\n",
       "      <td>Ленинск</td>\n",
       "      <td>Бытовая электроника</td>\n",
       "      <td>Товары для компьютера</td>\n",
       "      <td>Клавиатуры и мыши</td>\n",
       "      <td>NaN</td>\n",
       "      <td>NaN</td>\n",
       "      <td>Мышка игровая</td>\n",
       "      <td>Продаю мышку для игр,с подстветкой,с тканевым ...</td>\n",
       "      <td>450.0</td>\n",
       "      <td>3/22/2017</td>\n",
       "      <td>Private</td>\n",
       "      <td>0.24002</td>\n",
       "    </tr>\n",
       "    <tr>\n",
       "      <th>35897</th>\n",
       "      <td>Оренбургская область</td>\n",
       "      <td>Оренбург</td>\n",
       "      <td>Личные вещи</td>\n",
       "      <td>Детская одежда и обувь</td>\n",
       "      <td>Для девочек</td>\n",
       "      <td>Верхняя одежда</td>\n",
       "      <td>122-128 см (6-8 лет)</td>\n",
       "      <td>Пальто для девочки</td>\n",
       "      <td>Пальто для девочки. Рост 130см. Б/У. В хорошем...</td>\n",
       "      <td>2000.0</td>\n",
       "      <td>3/25/2017</td>\n",
       "      <td>Private</td>\n",
       "      <td>0.00000</td>\n",
       "    </tr>\n",
       "    <tr>\n",
       "      <th>502737</th>\n",
       "      <td>Владимирская область</td>\n",
       "      <td>Лакинск</td>\n",
       "      <td>Личные вещи</td>\n",
       "      <td>Детская одежда и обувь</td>\n",
       "      <td>Для девочек</td>\n",
       "      <td>Верхняя одежда</td>\n",
       "      <td>50-56 cм (0-2 мес)</td>\n",
       "      <td>Конверт на выиску</td>\n",
       "      <td>NaN</td>\n",
       "      <td>550.0</td>\n",
       "      <td>3/20/2017</td>\n",
       "      <td>Private</td>\n",
       "      <td>0.00000</td>\n",
       "    </tr>\n",
       "    <tr>\n",
       "      <th>800122</th>\n",
       "      <td>Ростовская область</td>\n",
       "      <td>Зверево</td>\n",
       "      <td>Транспорт</td>\n",
       "      <td>Автомобили</td>\n",
       "      <td>С пробегом</td>\n",
       "      <td>ВАЗ (LADA)</td>\n",
       "      <td>2112</td>\n",
       "      <td>ВАЗ 2112, 2008</td>\n",
       "      <td>машина в отличном состоянии без вложений. Торг...</td>\n",
       "      <td>139000.0</td>\n",
       "      <td>3/15/2017</td>\n",
       "      <td>Private</td>\n",
       "      <td>0.47553</td>\n",
       "    </tr>\n",
       "    <tr>\n",
       "      <th>438668</th>\n",
       "      <td>Самарская область</td>\n",
       "      <td>Тольятти</td>\n",
       "      <td>Личные вещи</td>\n",
       "      <td>Одежда, обувь, аксессуары</td>\n",
       "      <td>Женская одежда</td>\n",
       "      <td>Обувь</td>\n",
       "      <td>40</td>\n",
       "      <td>Босоножки Rieker, нубук</td>\n",
       "      <td>NaN</td>\n",
       "      <td>1300.0</td>\n",
       "      <td>3/24/2017</td>\n",
       "      <td>Private</td>\n",
       "      <td>0.00000</td>\n",
       "    </tr>\n",
       "    <tr>\n",
       "      <th>...</th>\n",
       "      <td>...</td>\n",
       "      <td>...</td>\n",
       "      <td>...</td>\n",
       "      <td>...</td>\n",
       "      <td>...</td>\n",
       "      <td>...</td>\n",
       "      <td>...</td>\n",
       "      <td>...</td>\n",
       "      <td>...</td>\n",
       "      <td>...</td>\n",
       "      <td>...</td>\n",
       "      <td>...</td>\n",
       "      <td>...</td>\n",
       "    </tr>\n",
       "    <tr>\n",
       "      <th>380121</th>\n",
       "      <td>Татарстан</td>\n",
       "      <td>Казань</td>\n",
       "      <td>Личные вещи</td>\n",
       "      <td>Одежда, обувь, аксессуары</td>\n",
       "      <td>Женская одежда</td>\n",
       "      <td>Платья и юбки</td>\n",
       "      <td>46–48 (L)</td>\n",
       "      <td>Красное новое платье размер 46</td>\n",
       "      <td>NaN</td>\n",
       "      <td>2500.0</td>\n",
       "      <td>3/22/2017</td>\n",
       "      <td>Private</td>\n",
       "      <td>0.00000</td>\n",
       "    </tr>\n",
       "    <tr>\n",
       "      <th>242393</th>\n",
       "      <td>Самарская область</td>\n",
       "      <td>Самара</td>\n",
       "      <td>Личные вещи</td>\n",
       "      <td>Детская одежда и обувь</td>\n",
       "      <td>Для мальчиков</td>\n",
       "      <td>Комбинезоны и боди</td>\n",
       "      <td>74-80 см (7-12 мес)</td>\n",
       "      <td>Вещи пакетом</td>\n",
       "      <td>На возраст приблизительно от 6 месяцев до 1,5 ...</td>\n",
       "      <td>300.0</td>\n",
       "      <td>3/15/2017</td>\n",
       "      <td>Private</td>\n",
       "      <td>0.00000</td>\n",
       "    </tr>\n",
       "    <tr>\n",
       "      <th>74771</th>\n",
       "      <td>Оренбургская область</td>\n",
       "      <td>Оренбург</td>\n",
       "      <td>Для дома и дачи</td>\n",
       "      <td>Ремонт и строительство</td>\n",
       "      <td>Стройматериалы</td>\n",
       "      <td>NaN</td>\n",
       "      <td>NaN</td>\n",
       "      <td>Лист металла</td>\n",
       "      <td>Продам четыре металлических листа. Размер:1.25...</td>\n",
       "      <td>250.0</td>\n",
       "      <td>3/17/2017</td>\n",
       "      <td>Private</td>\n",
       "      <td>0.00000</td>\n",
       "    </tr>\n",
       "    <tr>\n",
       "      <th>586356</th>\n",
       "      <td>Оренбургская область</td>\n",
       "      <td>Оренбург</td>\n",
       "      <td>Бытовая электроника</td>\n",
       "      <td>Товары для компьютера</td>\n",
       "      <td>Комплектующие</td>\n",
       "      <td>Оперативная память</td>\n",
       "      <td>NaN</td>\n",
       "      <td>DDR3 2GB 1333MHz</td>\n",
       "      <td>.</td>\n",
       "      <td>600.0</td>\n",
       "      <td>3/18/2017</td>\n",
       "      <td>Private</td>\n",
       "      <td>0.00000</td>\n",
       "    </tr>\n",
       "    <tr>\n",
       "      <th>876599</th>\n",
       "      <td>Ярославская область</td>\n",
       "      <td>Ярославль</td>\n",
       "      <td>Личные вещи</td>\n",
       "      <td>Товары для детей и игрушки</td>\n",
       "      <td>Детская мебель</td>\n",
       "      <td>NaN</td>\n",
       "      <td>NaN</td>\n",
       "      <td>Детская кроватка</td>\n",
       "      <td>Продам детскую кроватку Золушка-1. с матрасико...</td>\n",
       "      <td>2500.0</td>\n",
       "      <td>3/28/2017</td>\n",
       "      <td>Private</td>\n",
       "      <td>0.00000</td>\n",
       "    </tr>\n",
       "  </tbody>\n",
       "</table>\n",
       "<p>10000 rows × 13 columns</p>\n",
       "</div>"
      ],
      "text/plain": [
       "                       region       city parent_category_name  \\\n",
       "483377  Волгоградская область    Ленинск  Бытовая электроника   \n",
       "35897    Оренбургская область   Оренбург          Личные вещи   \n",
       "502737   Владимирская область    Лакинск          Личные вещи   \n",
       "800122     Ростовская область    Зверево            Транспорт   \n",
       "438668      Самарская область   Тольятти          Личные вещи   \n",
       "...                       ...        ...                  ...   \n",
       "380121              Татарстан     Казань          Личные вещи   \n",
       "242393      Самарская область     Самара          Личные вещи   \n",
       "74771    Оренбургская область   Оренбург      Для дома и дачи   \n",
       "586356   Оренбургская область   Оренбург  Бытовая электроника   \n",
       "876599    Ярославская область  Ярославль          Личные вещи   \n",
       "\n",
       "                     category_name            param_1             param_2  \\\n",
       "483377       Товары для компьютера  Клавиатуры и мыши                 NaN   \n",
       "35897       Детская одежда и обувь        Для девочек      Верхняя одежда   \n",
       "502737      Детская одежда и обувь        Для девочек      Верхняя одежда   \n",
       "800122                  Автомобили         С пробегом          ВАЗ (LADA)   \n",
       "438668   Одежда, обувь, аксессуары     Женская одежда               Обувь   \n",
       "...                            ...                ...                 ...   \n",
       "380121   Одежда, обувь, аксессуары     Женская одежда       Платья и юбки   \n",
       "242393      Детская одежда и обувь      Для мальчиков  Комбинезоны и боди   \n",
       "74771       Ремонт и строительство     Стройматериалы                 NaN   \n",
       "586356       Товары для компьютера      Комплектующие  Оперативная память   \n",
       "876599  Товары для детей и игрушки     Детская мебель                 NaN   \n",
       "\n",
       "                     param_3                           title  \\\n",
       "483377                   NaN                   Мышка игровая   \n",
       "35897   122-128 см (6-8 лет)              Пальто для девочки   \n",
       "502737    50-56 cм (0-2 мес)               Конверт на выиску   \n",
       "800122                  2112                  ВАЗ 2112, 2008   \n",
       "438668                    40         Босоножки Rieker, нубук   \n",
       "...                      ...                             ...   \n",
       "380121             46–48 (L)  Красное новое платье размер 46   \n",
       "242393   74-80 см (7-12 мес)                    Вещи пакетом   \n",
       "74771                    NaN                    Лист металла   \n",
       "586356                   NaN                DDR3 2GB 1333MHz   \n",
       "876599                   NaN                Детская кроватка   \n",
       "\n",
       "                                              description     price  \\\n",
       "483377  Продаю мышку для игр,с подстветкой,с тканевым ...     450.0   \n",
       "35897   Пальто для девочки. Рост 130см. Б/У. В хорошем...    2000.0   \n",
       "502737                                                NaN     550.0   \n",
       "800122  машина в отличном состоянии без вложений. Торг...  139000.0   \n",
       "438668                                                NaN    1300.0   \n",
       "...                                                   ...       ...   \n",
       "380121                                                NaN    2500.0   \n",
       "242393  На возраст приблизительно от 6 месяцев до 1,5 ...     300.0   \n",
       "74771   Продам четыре металлических листа. Размер:1.25...     250.0   \n",
       "586356                                                  .     600.0   \n",
       "876599  Продам детскую кроватку Золушка-1. с матрасико...    2500.0   \n",
       "\n",
       "       activation_date user_type  deal_probability  \n",
       "483377       3/22/2017   Private           0.24002  \n",
       "35897        3/25/2017   Private           0.00000  \n",
       "502737       3/20/2017   Private           0.00000  \n",
       "800122       3/15/2017   Private           0.47553  \n",
       "438668       3/24/2017   Private           0.00000  \n",
       "...                ...       ...               ...  \n",
       "380121       3/22/2017   Private           0.00000  \n",
       "242393       3/15/2017   Private           0.00000  \n",
       "74771        3/17/2017   Private           0.00000  \n",
       "586356       3/18/2017   Private           0.00000  \n",
       "876599       3/28/2017   Private           0.00000  \n",
       "\n",
       "[10000 rows x 13 columns]"
      ]
     },
     "execution_count": 46,
     "metadata": {},
     "output_type": "execute_result"
    }
   ],
   "source": [
    "random_avito=avito.sample(n=10000)\n",
    "random_avito"
   ]
  },
  {
   "cell_type": "code",
   "execution_count": 47,
   "metadata": {},
   "outputs": [],
   "source": [
    "random_avito.to_csv('random_avito.csv')"
   ]
  },
  {
   "cell_type": "code",
   "execution_count": 48,
   "metadata": {},
   "outputs": [
    {
     "data": {
      "text/html": [
       "<div>\n",
       "<style scoped>\n",
       "    .dataframe tbody tr th:only-of-type {\n",
       "        vertical-align: middle;\n",
       "    }\n",
       "\n",
       "    .dataframe tbody tr th {\n",
       "        vertical-align: top;\n",
       "    }\n",
       "\n",
       "    .dataframe thead th {\n",
       "        text-align: right;\n",
       "    }\n",
       "</style>\n",
       "<table border=\"1\" class=\"dataframe\">\n",
       "  <thead>\n",
       "    <tr style=\"text-align: right;\">\n",
       "      <th></th>\n",
       "      <th>region</th>\n",
       "      <th>city</th>\n",
       "      <th>parent_category_name</th>\n",
       "      <th>category_name</th>\n",
       "      <th>param_1</th>\n",
       "      <th>param_2</th>\n",
       "      <th>param_3</th>\n",
       "      <th>title</th>\n",
       "      <th>description</th>\n",
       "      <th>price</th>\n",
       "      <th>activation_date</th>\n",
       "      <th>user_type</th>\n",
       "      <th>deal_probability</th>\n",
       "    </tr>\n",
       "  </thead>\n",
       "  <tbody>\n",
       "    <tr>\n",
       "      <th>483377</th>\n",
       "      <td>Волгоградская область</td>\n",
       "      <td>Ленинск</td>\n",
       "      <td>Бытовая электроника</td>\n",
       "      <td>Товары для компьютера</td>\n",
       "      <td>Клавиатуры и мыши</td>\n",
       "      <td>NaN</td>\n",
       "      <td>NaN</td>\n",
       "      <td>Мышка игровая</td>\n",
       "      <td>Продаю мышку для игр,с подстветкой,с тканевым ...</td>\n",
       "      <td>450.0</td>\n",
       "      <td>3/22/2017</td>\n",
       "      <td>Private</td>\n",
       "      <td>0.24002</td>\n",
       "    </tr>\n",
       "    <tr>\n",
       "      <th>35897</th>\n",
       "      <td>Оренбургская область</td>\n",
       "      <td>Оренбург</td>\n",
       "      <td>Личные вещи</td>\n",
       "      <td>Детская одежда и обувь</td>\n",
       "      <td>Для девочек</td>\n",
       "      <td>Верхняя одежда</td>\n",
       "      <td>122-128 см (6-8 лет)</td>\n",
       "      <td>Пальто для девочки</td>\n",
       "      <td>Пальто для девочки. Рост 130см. Б/У. В хорошем...</td>\n",
       "      <td>2000.0</td>\n",
       "      <td>3/25/2017</td>\n",
       "      <td>Private</td>\n",
       "      <td>0.00000</td>\n",
       "    </tr>\n",
       "    <tr>\n",
       "      <th>502737</th>\n",
       "      <td>Владимирская область</td>\n",
       "      <td>Лакинск</td>\n",
       "      <td>Личные вещи</td>\n",
       "      <td>Детская одежда и обувь</td>\n",
       "      <td>Для девочек</td>\n",
       "      <td>Верхняя одежда</td>\n",
       "      <td>50-56 cм (0-2 мес)</td>\n",
       "      <td>Конверт на выиску</td>\n",
       "      <td>NaN</td>\n",
       "      <td>550.0</td>\n",
       "      <td>3/20/2017</td>\n",
       "      <td>Private</td>\n",
       "      <td>0.00000</td>\n",
       "    </tr>\n",
       "    <tr>\n",
       "      <th>800122</th>\n",
       "      <td>Ростовская область</td>\n",
       "      <td>Зверево</td>\n",
       "      <td>Транспорт</td>\n",
       "      <td>Автомобили</td>\n",
       "      <td>С пробегом</td>\n",
       "      <td>ВАЗ (LADA)</td>\n",
       "      <td>2112</td>\n",
       "      <td>ВАЗ 2112, 2008</td>\n",
       "      <td>машина в отличном состоянии без вложений. Торг...</td>\n",
       "      <td>139000.0</td>\n",
       "      <td>3/15/2017</td>\n",
       "      <td>Private</td>\n",
       "      <td>0.47553</td>\n",
       "    </tr>\n",
       "    <tr>\n",
       "      <th>438668</th>\n",
       "      <td>Самарская область</td>\n",
       "      <td>Тольятти</td>\n",
       "      <td>Личные вещи</td>\n",
       "      <td>Одежда, обувь, аксессуары</td>\n",
       "      <td>Женская одежда</td>\n",
       "      <td>Обувь</td>\n",
       "      <td>40</td>\n",
       "      <td>Босоножки Rieker, нубук</td>\n",
       "      <td>NaN</td>\n",
       "      <td>1300.0</td>\n",
       "      <td>3/24/2017</td>\n",
       "      <td>Private</td>\n",
       "      <td>0.00000</td>\n",
       "    </tr>\n",
       "    <tr>\n",
       "      <th>...</th>\n",
       "      <td>...</td>\n",
       "      <td>...</td>\n",
       "      <td>...</td>\n",
       "      <td>...</td>\n",
       "      <td>...</td>\n",
       "      <td>...</td>\n",
       "      <td>...</td>\n",
       "      <td>...</td>\n",
       "      <td>...</td>\n",
       "      <td>...</td>\n",
       "      <td>...</td>\n",
       "      <td>...</td>\n",
       "      <td>...</td>\n",
       "    </tr>\n",
       "    <tr>\n",
       "      <th>380121</th>\n",
       "      <td>Татарстан</td>\n",
       "      <td>Казань</td>\n",
       "      <td>Личные вещи</td>\n",
       "      <td>Одежда, обувь, аксессуары</td>\n",
       "      <td>Женская одежда</td>\n",
       "      <td>Платья и юбки</td>\n",
       "      <td>46–48 (L)</td>\n",
       "      <td>Красное новое платье размер 46</td>\n",
       "      <td>NaN</td>\n",
       "      <td>2500.0</td>\n",
       "      <td>3/22/2017</td>\n",
       "      <td>Private</td>\n",
       "      <td>0.00000</td>\n",
       "    </tr>\n",
       "    <tr>\n",
       "      <th>242393</th>\n",
       "      <td>Самарская область</td>\n",
       "      <td>Самара</td>\n",
       "      <td>Личные вещи</td>\n",
       "      <td>Детская одежда и обувь</td>\n",
       "      <td>Для мальчиков</td>\n",
       "      <td>Комбинезоны и боди</td>\n",
       "      <td>74-80 см (7-12 мес)</td>\n",
       "      <td>Вещи пакетом</td>\n",
       "      <td>На возраст приблизительно от 6 месяцев до 1,5 ...</td>\n",
       "      <td>300.0</td>\n",
       "      <td>3/15/2017</td>\n",
       "      <td>Private</td>\n",
       "      <td>0.00000</td>\n",
       "    </tr>\n",
       "    <tr>\n",
       "      <th>74771</th>\n",
       "      <td>Оренбургская область</td>\n",
       "      <td>Оренбург</td>\n",
       "      <td>Для дома и дачи</td>\n",
       "      <td>Ремонт и строительство</td>\n",
       "      <td>Стройматериалы</td>\n",
       "      <td>NaN</td>\n",
       "      <td>NaN</td>\n",
       "      <td>Лист металла</td>\n",
       "      <td>Продам четыре металлических листа. Размер:1.25...</td>\n",
       "      <td>250.0</td>\n",
       "      <td>3/17/2017</td>\n",
       "      <td>Private</td>\n",
       "      <td>0.00000</td>\n",
       "    </tr>\n",
       "    <tr>\n",
       "      <th>586356</th>\n",
       "      <td>Оренбургская область</td>\n",
       "      <td>Оренбург</td>\n",
       "      <td>Бытовая электроника</td>\n",
       "      <td>Товары для компьютера</td>\n",
       "      <td>Комплектующие</td>\n",
       "      <td>Оперативная память</td>\n",
       "      <td>NaN</td>\n",
       "      <td>DDR3 2GB 1333MHz</td>\n",
       "      <td>.</td>\n",
       "      <td>600.0</td>\n",
       "      <td>3/18/2017</td>\n",
       "      <td>Private</td>\n",
       "      <td>0.00000</td>\n",
       "    </tr>\n",
       "    <tr>\n",
       "      <th>876599</th>\n",
       "      <td>Ярославская область</td>\n",
       "      <td>Ярославль</td>\n",
       "      <td>Личные вещи</td>\n",
       "      <td>Товары для детей и игрушки</td>\n",
       "      <td>Детская мебель</td>\n",
       "      <td>NaN</td>\n",
       "      <td>NaN</td>\n",
       "      <td>Детская кроватка</td>\n",
       "      <td>Продам детскую кроватку Золушка-1. с матрасико...</td>\n",
       "      <td>2500.0</td>\n",
       "      <td>3/28/2017</td>\n",
       "      <td>Private</td>\n",
       "      <td>0.00000</td>\n",
       "    </tr>\n",
       "  </tbody>\n",
       "</table>\n",
       "<p>10000 rows × 13 columns</p>\n",
       "</div>"
      ],
      "text/plain": [
       "                       region       city parent_category_name  \\\n",
       "483377  Волгоградская область    Ленинск  Бытовая электроника   \n",
       "35897    Оренбургская область   Оренбург          Личные вещи   \n",
       "502737   Владимирская область    Лакинск          Личные вещи   \n",
       "800122     Ростовская область    Зверево            Транспорт   \n",
       "438668      Самарская область   Тольятти          Личные вещи   \n",
       "...                       ...        ...                  ...   \n",
       "380121              Татарстан     Казань          Личные вещи   \n",
       "242393      Самарская область     Самара          Личные вещи   \n",
       "74771    Оренбургская область   Оренбург      Для дома и дачи   \n",
       "586356   Оренбургская область   Оренбург  Бытовая электроника   \n",
       "876599    Ярославская область  Ярославль          Личные вещи   \n",
       "\n",
       "                     category_name            param_1             param_2  \\\n",
       "483377       Товары для компьютера  Клавиатуры и мыши                 NaN   \n",
       "35897       Детская одежда и обувь        Для девочек      Верхняя одежда   \n",
       "502737      Детская одежда и обувь        Для девочек      Верхняя одежда   \n",
       "800122                  Автомобили         С пробегом          ВАЗ (LADA)   \n",
       "438668   Одежда, обувь, аксессуары     Женская одежда               Обувь   \n",
       "...                            ...                ...                 ...   \n",
       "380121   Одежда, обувь, аксессуары     Женская одежда       Платья и юбки   \n",
       "242393      Детская одежда и обувь      Для мальчиков  Комбинезоны и боди   \n",
       "74771       Ремонт и строительство     Стройматериалы                 NaN   \n",
       "586356       Товары для компьютера      Комплектующие  Оперативная память   \n",
       "876599  Товары для детей и игрушки     Детская мебель                 NaN   \n",
       "\n",
       "                     param_3                           title  \\\n",
       "483377                   NaN                   Мышка игровая   \n",
       "35897   122-128 см (6-8 лет)              Пальто для девочки   \n",
       "502737    50-56 cм (0-2 мес)               Конверт на выиску   \n",
       "800122                  2112                  ВАЗ 2112, 2008   \n",
       "438668                    40         Босоножки Rieker, нубук   \n",
       "...                      ...                             ...   \n",
       "380121             46–48 (L)  Красное новое платье размер 46   \n",
       "242393   74-80 см (7-12 мес)                    Вещи пакетом   \n",
       "74771                    NaN                    Лист металла   \n",
       "586356                   NaN                DDR3 2GB 1333MHz   \n",
       "876599                   NaN                Детская кроватка   \n",
       "\n",
       "                                              description     price  \\\n",
       "483377  Продаю мышку для игр,с подстветкой,с тканевым ...     450.0   \n",
       "35897   Пальто для девочки. Рост 130см. Б/У. В хорошем...    2000.0   \n",
       "502737                                                NaN     550.0   \n",
       "800122  машина в отличном состоянии без вложений. Торг...  139000.0   \n",
       "438668                                                NaN    1300.0   \n",
       "...                                                   ...       ...   \n",
       "380121                                                NaN    2500.0   \n",
       "242393  На возраст приблизительно от 6 месяцев до 1,5 ...     300.0   \n",
       "74771   Продам четыре металлических листа. Размер:1.25...     250.0   \n",
       "586356                                                  .     600.0   \n",
       "876599  Продам детскую кроватку Золушка-1. с матрасико...    2500.0   \n",
       "\n",
       "       activation_date user_type  deal_probability  \n",
       "483377       3/22/2017   Private           0.24002  \n",
       "35897        3/25/2017   Private           0.00000  \n",
       "502737       3/20/2017   Private           0.00000  \n",
       "800122       3/15/2017   Private           0.47553  \n",
       "438668       3/24/2017   Private           0.00000  \n",
       "...                ...       ...               ...  \n",
       "380121       3/22/2017   Private           0.00000  \n",
       "242393       3/15/2017   Private           0.00000  \n",
       "74771        3/17/2017   Private           0.00000  \n",
       "586356       3/18/2017   Private           0.00000  \n",
       "876599       3/28/2017   Private           0.00000  \n",
       "\n",
       "[10000 rows x 13 columns]"
      ]
     },
     "execution_count": 48,
     "metadata": {},
     "output_type": "execute_result"
    }
   ],
   "source": [
    "random_avito"
   ]
  },
  {
   "cell_type": "code",
   "execution_count": 49,
   "metadata": {},
   "outputs": [
    {
     "name": "stdout",
     "output_type": "stream",
     "text": [
      "<class 'pandas.core.frame.DataFrame'>\n",
      "Int64Index: 10000 entries, 483377 to 876599\n",
      "Data columns (total 13 columns):\n",
      " #   Column                Non-Null Count  Dtype  \n",
      "---  ------                --------------  -----  \n",
      " 0   region                10000 non-null  object \n",
      " 1   city                  10000 non-null  object \n",
      " 2   parent_category_name  10000 non-null  object \n",
      " 3   category_name         10000 non-null  object \n",
      " 4   param_1               9585 non-null   object \n",
      " 5   param_2               5598 non-null   object \n",
      " 6   param_3               4241 non-null   object \n",
      " 7   title                 10000 non-null  object \n",
      " 8   description           9195 non-null   object \n",
      " 9   price                 9406 non-null   float64\n",
      " 10  activation_date       10000 non-null  object \n",
      " 11  user_type             10000 non-null  object \n",
      " 12  deal_probability      10000 non-null  float64\n",
      "dtypes: float64(2), object(11)\n",
      "memory usage: 1.1+ MB\n"
     ]
    }
   ],
   "source": [
    "random_avito.info()"
   ]
  },
  {
   "cell_type": "code",
   "execution_count": 50,
   "metadata": {},
   "outputs": [],
   "source": [
    "deal_probability_region_random=random_avito.groupby(['region'])['deal_probability'].mean()\n",
    "deal_probability_region_random=deal_probability_region_random.sort_values().reset_index()"
   ]
  },
  {
   "cell_type": "code",
   "execution_count": 51,
   "metadata": {},
   "outputs": [
    {
     "data": {
      "text/html": [
       "<div>\n",
       "<style scoped>\n",
       "    .dataframe tbody tr th:only-of-type {\n",
       "        vertical-align: middle;\n",
       "    }\n",
       "\n",
       "    .dataframe tbody tr th {\n",
       "        vertical-align: top;\n",
       "    }\n",
       "\n",
       "    .dataframe thead th {\n",
       "        text-align: right;\n",
       "    }\n",
       "</style>\n",
       "<table border=\"1\" class=\"dataframe\">\n",
       "  <thead>\n",
       "    <tr style=\"text-align: right;\">\n",
       "      <th></th>\n",
       "      <th>region</th>\n",
       "      <th>deal_probability</th>\n",
       "    </tr>\n",
       "  </thead>\n",
       "  <tbody>\n",
       "    <tr>\n",
       "      <th>0</th>\n",
       "      <td>Тюменская область</td>\n",
       "      <td>0.112028</td>\n",
       "    </tr>\n",
       "    <tr>\n",
       "      <th>1</th>\n",
       "      <td>Свердловская область</td>\n",
       "      <td>0.119801</td>\n",
       "    </tr>\n",
       "    <tr>\n",
       "      <th>2</th>\n",
       "      <td>Кемеровская область</td>\n",
       "      <td>0.121333</td>\n",
       "    </tr>\n",
       "    <tr>\n",
       "      <th>3</th>\n",
       "      <td>Калининградская область</td>\n",
       "      <td>0.123441</td>\n",
       "    </tr>\n",
       "    <tr>\n",
       "      <th>4</th>\n",
       "      <td>Тульская область</td>\n",
       "      <td>0.125125</td>\n",
       "    </tr>\n",
       "    <tr>\n",
       "      <th>5</th>\n",
       "      <td>Красноярский край</td>\n",
       "      <td>0.126550</td>\n",
       "    </tr>\n",
       "    <tr>\n",
       "      <th>6</th>\n",
       "      <td>Воронежская область</td>\n",
       "      <td>0.127314</td>\n",
       "    </tr>\n",
       "    <tr>\n",
       "      <th>7</th>\n",
       "      <td>Ярославская область</td>\n",
       "      <td>0.128480</td>\n",
       "    </tr>\n",
       "    <tr>\n",
       "      <th>8</th>\n",
       "      <td>Нижегородская область</td>\n",
       "      <td>0.132209</td>\n",
       "    </tr>\n",
       "    <tr>\n",
       "      <th>9</th>\n",
       "      <td>Ростовская область</td>\n",
       "      <td>0.132796</td>\n",
       "    </tr>\n",
       "    <tr>\n",
       "      <th>10</th>\n",
       "      <td>Новосибирская область</td>\n",
       "      <td>0.132946</td>\n",
       "    </tr>\n",
       "    <tr>\n",
       "      <th>11</th>\n",
       "      <td>Волгоградская область</td>\n",
       "      <td>0.136488</td>\n",
       "    </tr>\n",
       "    <tr>\n",
       "      <th>12</th>\n",
       "      <td>Владимирская область</td>\n",
       "      <td>0.137079</td>\n",
       "    </tr>\n",
       "    <tr>\n",
       "      <th>13</th>\n",
       "      <td>Ханты-Мансийский АО</td>\n",
       "      <td>0.137162</td>\n",
       "    </tr>\n",
       "    <tr>\n",
       "      <th>14</th>\n",
       "      <td>Иркутская область</td>\n",
       "      <td>0.139400</td>\n",
       "    </tr>\n",
       "    <tr>\n",
       "      <th>15</th>\n",
       "      <td>Самарская область</td>\n",
       "      <td>0.140693</td>\n",
       "    </tr>\n",
       "    <tr>\n",
       "      <th>16</th>\n",
       "      <td>Челябинская область</td>\n",
       "      <td>0.140926</td>\n",
       "    </tr>\n",
       "    <tr>\n",
       "      <th>17</th>\n",
       "      <td>Удмуртия</td>\n",
       "      <td>0.141814</td>\n",
       "    </tr>\n",
       "    <tr>\n",
       "      <th>18</th>\n",
       "      <td>Оренбургская область</td>\n",
       "      <td>0.146022</td>\n",
       "    </tr>\n",
       "    <tr>\n",
       "      <th>19</th>\n",
       "      <td>Татарстан</td>\n",
       "      <td>0.146352</td>\n",
       "    </tr>\n",
       "    <tr>\n",
       "      <th>20</th>\n",
       "      <td>Алтайский край</td>\n",
       "      <td>0.152360</td>\n",
       "    </tr>\n",
       "    <tr>\n",
       "      <th>21</th>\n",
       "      <td>Саратовская область</td>\n",
       "      <td>0.154317</td>\n",
       "    </tr>\n",
       "    <tr>\n",
       "      <th>22</th>\n",
       "      <td>Краснодарский край</td>\n",
       "      <td>0.155347</td>\n",
       "    </tr>\n",
       "    <tr>\n",
       "      <th>23</th>\n",
       "      <td>Пермский край</td>\n",
       "      <td>0.156008</td>\n",
       "    </tr>\n",
       "    <tr>\n",
       "      <th>24</th>\n",
       "      <td>Башкортостан</td>\n",
       "      <td>0.156526</td>\n",
       "    </tr>\n",
       "    <tr>\n",
       "      <th>25</th>\n",
       "      <td>Омская область</td>\n",
       "      <td>0.164003</td>\n",
       "    </tr>\n",
       "    <tr>\n",
       "      <th>26</th>\n",
       "      <td>Белгородская область</td>\n",
       "      <td>0.167177</td>\n",
       "    </tr>\n",
       "    <tr>\n",
       "      <th>27</th>\n",
       "      <td>Ставропольский край</td>\n",
       "      <td>0.177308</td>\n",
       "    </tr>\n",
       "  </tbody>\n",
       "</table>\n",
       "</div>"
      ],
      "text/plain": [
       "                     region  deal_probability\n",
       "0         Тюменская область          0.112028\n",
       "1      Свердловская область          0.119801\n",
       "2       Кемеровская область          0.121333\n",
       "3   Калининградская область          0.123441\n",
       "4          Тульская область          0.125125\n",
       "5         Красноярский край          0.126550\n",
       "6       Воронежская область          0.127314\n",
       "7       Ярославская область          0.128480\n",
       "8     Нижегородская область          0.132209\n",
       "9        Ростовская область          0.132796\n",
       "10    Новосибирская область          0.132946\n",
       "11    Волгоградская область          0.136488\n",
       "12     Владимирская область          0.137079\n",
       "13      Ханты-Мансийский АО          0.137162\n",
       "14        Иркутская область          0.139400\n",
       "15        Самарская область          0.140693\n",
       "16      Челябинская область          0.140926\n",
       "17                 Удмуртия          0.141814\n",
       "18     Оренбургская область          0.146022\n",
       "19                Татарстан          0.146352\n",
       "20           Алтайский край          0.152360\n",
       "21      Саратовская область          0.154317\n",
       "22       Краснодарский край          0.155347\n",
       "23            Пермский край          0.156008\n",
       "24             Башкортостан          0.156526\n",
       "25           Омская область          0.164003\n",
       "26     Белгородская область          0.167177\n",
       "27      Ставропольский край          0.177308"
      ]
     },
     "execution_count": 51,
     "metadata": {},
     "output_type": "execute_result"
    }
   ],
   "source": [
    "deal_probability_region_random"
   ]
  },
  {
   "cell_type": "code",
   "execution_count": null,
   "metadata": {},
   "outputs": [],
   "source": []
  }
 ],
 "metadata": {
  "kernelspec": {
   "display_name": "Python 3",
   "language": "python",
   "name": "python3"
  },
  "language_info": {
   "codemirror_mode": {
    "name": "ipython",
    "version": 3
   },
   "file_extension": ".py",
   "mimetype": "text/x-python",
   "name": "python",
   "nbconvert_exporter": "python",
   "pygments_lexer": "ipython3",
   "version": "3.7.7"
  }
 },
 "nbformat": 4,
 "nbformat_minor": 4
}
